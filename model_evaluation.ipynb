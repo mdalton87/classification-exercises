{
 "cells": [
  {
   "cell_type": "code",
   "execution_count": 99,
   "metadata": {},
   "outputs": [],
   "source": [
    "import pandas as pd\n",
    "import numpy as np\n",
    "import os\n",
    "\n",
    "# visualize\n",
    "import seaborn as sns\n",
    "import matplotlib.pyplot as plt\n",
    "plt.rc('figure', figsize=(11, 9))\n",
    "plt.rc('font', size=13)\n",
    "\n",
    "import warnings\n",
    "warnings.filterwarnings(\"ignore\")\n",
    "\n",
    "from sklearn.model_selection import train_test_split\n",
    "from sklearn.impute import SimpleImputer"
   ]
  },
  {
   "cell_type": "code",
   "execution_count": 100,
   "metadata": {},
   "outputs": [
    {
     "data": {
      "text/plain": [
       "'\\n\\n    -    +        -+ == fp     -- == tn\\n-  --   +-        +- == fn     ++ == tp\\n+  -+   ++\\n\\n'"
      ]
     },
     "execution_count": 100,
     "metadata": {},
     "output_type": "execute_result"
    }
   ],
   "source": [
    "'''\n",
    "\n",
    "    -    +        -+ == fp     -- == tn\n",
    "-  --   +-        +- == fn     ++ == tp\n",
    "+  -+   ++\n",
    "\n",
    "'''"
   ]
  },
  {
   "cell_type": "markdown",
   "metadata": {},
   "source": [
    "2. Given the following confusion matrix, evaluate (by hand) the model's performance.\n",
    "\n"
   ]
  },
  {
   "cell_type": "markdown",
   "metadata": {},
   "source": [
    "- In the context of this problem, what is a false positive?\n",
    "    - **fp = 7: pred_dog x actual cat**\n",
    "- In the context of this problem, what is a false negative?\n",
    "    - **fn = 13: pred cat x actual dog**\n",
    "- How would you describe this model?\n",
    "    - **a cross tabulation of predictions against actual values**"
   ]
  },
  {
   "cell_type": "markdown",
   "metadata": {},
   "source": [
    "3. You are working as a datascientist working for Codeup Cody Creator (C3 for short), a rubber-duck manufacturing plant.\n",
    "\n"
   ]
  },
  {
   "cell_type": "markdown",
   "metadata": {},
   "source": [
    "Unfortunately, some of the rubber ducks that are produced will have defects. Your team has built several models that try to predict those defects, and the data from their predictions can be found here.\n",
    "\n",
    "Use the predictions dataset and pandas to help answer the following questions:\n",
    "\n"
   ]
  },
  {
   "cell_type": "code",
   "execution_count": 95,
   "metadata": {},
   "outputs": [
    {
     "data": {
      "text/html": [
       "<div>\n",
       "<style scoped>\n",
       "    .dataframe tbody tr th:only-of-type {\n",
       "        vertical-align: middle;\n",
       "    }\n",
       "\n",
       "    .dataframe tbody tr th {\n",
       "        vertical-align: top;\n",
       "    }\n",
       "\n",
       "    .dataframe thead th {\n",
       "        text-align: right;\n",
       "    }\n",
       "</style>\n",
       "<table border=\"1\" class=\"dataframe\">\n",
       "  <thead>\n",
       "    <tr style=\"text-align: right;\">\n",
       "      <th></th>\n",
       "      <th>actual</th>\n",
       "      <th>model1</th>\n",
       "      <th>model2</th>\n",
       "      <th>model3</th>\n",
       "    </tr>\n",
       "  </thead>\n",
       "  <tbody>\n",
       "    <tr>\n",
       "      <th>0</th>\n",
       "      <td>No Defect</td>\n",
       "      <td>No Defect</td>\n",
       "      <td>Defect</td>\n",
       "      <td>No Defect</td>\n",
       "    </tr>\n",
       "    <tr>\n",
       "      <th>1</th>\n",
       "      <td>No Defect</td>\n",
       "      <td>No Defect</td>\n",
       "      <td>Defect</td>\n",
       "      <td>Defect</td>\n",
       "    </tr>\n",
       "    <tr>\n",
       "      <th>2</th>\n",
       "      <td>No Defect</td>\n",
       "      <td>No Defect</td>\n",
       "      <td>Defect</td>\n",
       "      <td>No Defect</td>\n",
       "    </tr>\n",
       "    <tr>\n",
       "      <th>3</th>\n",
       "      <td>No Defect</td>\n",
       "      <td>Defect</td>\n",
       "      <td>Defect</td>\n",
       "      <td>Defect</td>\n",
       "    </tr>\n",
       "    <tr>\n",
       "      <th>4</th>\n",
       "      <td>No Defect</td>\n",
       "      <td>No Defect</td>\n",
       "      <td>Defect</td>\n",
       "      <td>No Defect</td>\n",
       "    </tr>\n",
       "  </tbody>\n",
       "</table>\n",
       "</div>"
      ],
      "text/plain": [
       "      actual     model1  model2     model3\n",
       "0  No Defect  No Defect  Defect  No Defect\n",
       "1  No Defect  No Defect  Defect     Defect\n",
       "2  No Defect  No Defect  Defect  No Defect\n",
       "3  No Defect     Defect  Defect     Defect\n",
       "4  No Defect  No Defect  Defect  No Defect"
      ]
     },
     "execution_count": 95,
     "metadata": {},
     "output_type": "execute_result"
    }
   ],
   "source": [
    "df = pd.read_csv('c3.csv')\n",
    "df.head()"
   ]
  },
  {
   "cell_type": "code",
   "execution_count": 96,
   "metadata": {},
   "outputs": [
    {
     "name": "stdout",
     "output_type": "stream",
     "text": [
      "<class 'pandas.core.frame.DataFrame'>\n",
      "RangeIndex: 200 entries, 0 to 199\n",
      "Data columns (total 4 columns):\n",
      " #   Column  Non-Null Count  Dtype \n",
      "---  ------  --------------  ----- \n",
      " 0   actual  200 non-null    object\n",
      " 1   model1  200 non-null    object\n",
      " 2   model2  200 non-null    object\n",
      " 3   model3  200 non-null    object\n",
      "dtypes: object(4)\n",
      "memory usage: 6.4+ KB\n"
     ]
    }
   ],
   "source": [
    "df.info()"
   ]
  },
  {
   "cell_type": "code",
   "execution_count": 97,
   "metadata": {},
   "outputs": [
    {
     "data": {
      "text/plain": [
       "No Defect    184\n",
       "Defect        16\n",
       "Name: actual, dtype: int64"
      ]
     },
     "execution_count": 97,
     "metadata": {},
     "output_type": "execute_result"
    }
   ],
   "source": [
    "df.actual.value_counts()"
   ]
  },
  {
   "cell_type": "markdown",
   "metadata": {},
   "source": [
    "- An internal team wants to investigate the cause of the manufacturing defects. They tell you that they want to identify as many of the ducks that have a defect as possible. Which evaluation metric \n",
    "would be appropriate here? Which model would be the best fit for this use case?\n"
   ]
  },
  {
   "cell_type": "markdown",
   "metadata": {},
   "source": [
    "- **Recall would be the appropriate evaluation metric**\n"
   ]
  },
  {
   "cell_type": "code",
   "execution_count": 102,
   "metadata": {},
   "outputs": [],
   "source": [
    "from sklearn.metrics import confusion_matrix\n"
   ]
  },
  {
   "cell_type": "code",
   "execution_count": 103,
   "metadata": {},
   "outputs": [
    {
     "data": {
      "text/plain": [
       "array([[182,   2],\n",
       "       [  8,   8]])"
      ]
     },
     "execution_count": 103,
     "metadata": {},
     "output_type": "execute_result"
    }
   ],
   "source": [
    "confusion_matrix(df.actual, df.model1, labels=['No Defect','Defect'])"
   ]
  },
  {
   "cell_type": "code",
   "execution_count": 104,
   "metadata": {},
   "outputs": [
    {
     "data": {
      "text/plain": [
       "array([[103,  81],\n",
       "       [  7,   9]])"
      ]
     },
     "execution_count": 104,
     "metadata": {},
     "output_type": "execute_result"
    }
   ],
   "source": [
    "confusion_matrix(df.actual, df.model2, labels=['No Defect','Defect'])"
   ]
  },
  {
   "cell_type": "code",
   "execution_count": 105,
   "metadata": {},
   "outputs": [
    {
     "data": {
      "text/plain": [
       "array([[98, 86],\n",
       "       [ 3, 13]])"
      ]
     },
     "execution_count": 105,
     "metadata": {},
     "output_type": "execute_result"
    }
   ],
   "source": [
    "confusion_matrix(df.actual, df.model3, labels=['No Defect','Defect'])"
   ]
  },
  {
   "cell_type": "code",
   "execution_count": 111,
   "metadata": {},
   "outputs": [],
   "source": [
    "df['baseline_prediction'] = 'Defect'\n",
    "subset = df[df.actual == 'Defect']\n",
    "\n",
    "model1_recall = (subset.model1 == subset.actual).mean()\n",
    "model2_recall = (subset.model2 == subset.actual).mean()\n",
    "model3_recall = (subset.model3 == subset.actual).mean()"
   ]
  },
  {
   "cell_type": "code",
   "execution_count": 112,
   "metadata": {},
   "outputs": [
    {
     "name": "stdout",
     "output_type": "stream",
     "text": [
      "The recall for model 1 is: 50.00%\n",
      "The recall for model 2 is: 56.25%\n",
      "The recall for model 3 is: 81.25%\n"
     ]
    }
   ],
   "source": [
    "print(f'The recall for model 1 is: {model1_recall:.2%}')\n",
    "print(f'The recall for model 2 is: {model2_recall:.2%}')\n",
    "print(f'The recall for model 3 is: {model3_recall:.2%}')"
   ]
  },
  {
   "cell_type": "markdown",
   "metadata": {},
   "source": [
    "- **Model3** is best for **recall**"
   ]
  },
  {
   "cell_type": "markdown",
   "metadata": {},
   "source": [
    "- Recently several stories in the local news have come out highlighting customers who received a rubber duck with a defect, and portraying C3 in a bad light. The PR team has decided to launch a program that gives customers with a defective duck a vacation to Hawaii. They need you to predict which ducks will have defects, but tell you the really don't want to accidentally give out a vacation package when the duck really doesn't have a defect. Which evaluation metric would be appropriate here? Which model would be the best fit for this use case?\n"
   ]
  },
  {
   "cell_type": "markdown",
   "metadata": {},
   "source": [
    "- **Precision** is the best model"
   ]
  },
  {
   "cell_type": "code",
   "execution_count": 120,
   "metadata": {},
   "outputs": [
    {
     "name": "stdout",
     "output_type": "stream",
     "text": [
      "model precision1: 95.00%\n",
      "model precision2: 56.00%\n",
      "model precision3: 55.50%\n"
     ]
    }
   ],
   "source": [
    "subset1 = df[df.model1 == 'Defect']\n",
    "model_precision1 = (subset.actual == subset.model1).mean()\n",
    "subset2 = df[df.model2 == 'Defect']\n",
    "model_precision2 = (subset.actual == subset.model2).mean()\n",
    "subset3 = df[df.model3 == 'Defect']\n",
    "model_precision3 = (subset.actual == subset.model3).mean()\n",
    "\n",
    "subset = df[df.baseline_prediction == 'Defect']\n",
    "baseline_precision = (subset.baseline_prediction == subset.actual).mean()\n",
    "\n",
    "print(f'model precision1: {model_precision1:.2%}')\n",
    "print(f'model precision2: {model_precision2:.2%}')\n",
    "print(f'model precision3: {model_precision3:.2%}')\n",
    "# print(f'baseline precision: {baseline_precision:.2%}')"
   ]
  },
  {
   "cell_type": "markdown",
   "metadata": {},
   "source": [
    "- **Model1** is the most precise "
   ]
  },
  {
   "cell_type": "code",
   "execution_count": 70,
   "metadata": {},
   "outputs": [
    {
     "name": "stdout",
     "output_type": "stream",
     "text": [
      "   model accuracy1: 95.00%\n",
      "   model accuracy2: 56.00%\n",
      "   model accuracy3: 55.50%\n",
      "baseline accuracy: 92.00%\n"
     ]
    }
   ],
   "source": [
    "model_accuracy1 = (df.model1 == df.actual).mean()\n",
    "model_accuracy2 = (df.model2 == df.actual).mean()\n",
    "model_accuracy3 = (df.model3 == df.actual).mean()\n",
    "\n",
    "baseline_accuracy = (df.baseline_prediction == df.actual).mean()\n",
    "\n",
    "print(f'   model accuracy1: {model_accuracy1:.2%}')\n",
    "print(f'   model accuracy2: {model_accuracy2:.2%}')\n",
    "print(f'   model accuracy3: {model_accuracy3:.2%}')\n",
    "print(f'baseline accuracy: {baseline_accuracy:.2%}')"
   ]
  },
  {
   "cell_type": "markdown",
   "metadata": {},
   "source": [
    "4. You are working as a data scientist for Gives You Paws ™, a subscription based service that shows you cute pictures of dogs or cats (or both for an additional fee).\n",
    "\n",
    "At Gives You Paws, anyone can upload pictures of their cats or dogs. The photos are then put through a two step process. First an automated algorithm tags pictures as either a cat or a dog (Phase I). Next, the photos that have been initially identified are put through another round of review, possibly with some human oversight, before being presented to the users (Phase II).\n"
   ]
  },
  {
   "cell_type": "code",
   "execution_count": 71,
   "metadata": {},
   "outputs": [],
   "source": [
    "df_paws = pd.read_csv('gives_you_paws.csv')"
   ]
  },
  {
   "cell_type": "code",
   "execution_count": 72,
   "metadata": {},
   "outputs": [
    {
     "data": {
      "text/html": [
       "<div>\n",
       "<style scoped>\n",
       "    .dataframe tbody tr th:only-of-type {\n",
       "        vertical-align: middle;\n",
       "    }\n",
       "\n",
       "    .dataframe tbody tr th {\n",
       "        vertical-align: top;\n",
       "    }\n",
       "\n",
       "    .dataframe thead th {\n",
       "        text-align: right;\n",
       "    }\n",
       "</style>\n",
       "<table border=\"1\" class=\"dataframe\">\n",
       "  <thead>\n",
       "    <tr style=\"text-align: right;\">\n",
       "      <th></th>\n",
       "      <th>actual</th>\n",
       "      <th>model1</th>\n",
       "      <th>model2</th>\n",
       "      <th>model3</th>\n",
       "      <th>model4</th>\n",
       "    </tr>\n",
       "  </thead>\n",
       "  <tbody>\n",
       "    <tr>\n",
       "      <th>0</th>\n",
       "      <td>cat</td>\n",
       "      <td>cat</td>\n",
       "      <td>dog</td>\n",
       "      <td>cat</td>\n",
       "      <td>dog</td>\n",
       "    </tr>\n",
       "    <tr>\n",
       "      <th>1</th>\n",
       "      <td>dog</td>\n",
       "      <td>dog</td>\n",
       "      <td>cat</td>\n",
       "      <td>cat</td>\n",
       "      <td>dog</td>\n",
       "    </tr>\n",
       "    <tr>\n",
       "      <th>2</th>\n",
       "      <td>dog</td>\n",
       "      <td>cat</td>\n",
       "      <td>cat</td>\n",
       "      <td>cat</td>\n",
       "      <td>dog</td>\n",
       "    </tr>\n",
       "    <tr>\n",
       "      <th>3</th>\n",
       "      <td>dog</td>\n",
       "      <td>dog</td>\n",
       "      <td>dog</td>\n",
       "      <td>cat</td>\n",
       "      <td>dog</td>\n",
       "    </tr>\n",
       "    <tr>\n",
       "      <th>4</th>\n",
       "      <td>cat</td>\n",
       "      <td>cat</td>\n",
       "      <td>cat</td>\n",
       "      <td>dog</td>\n",
       "      <td>dog</td>\n",
       "    </tr>\n",
       "  </tbody>\n",
       "</table>\n",
       "</div>"
      ],
      "text/plain": [
       "  actual model1 model2 model3 model4\n",
       "0    cat    cat    dog    cat    dog\n",
       "1    dog    dog    cat    cat    dog\n",
       "2    dog    cat    cat    cat    dog\n",
       "3    dog    dog    dog    cat    dog\n",
       "4    cat    cat    cat    dog    dog"
      ]
     },
     "execution_count": 72,
     "metadata": {},
     "output_type": "execute_result"
    }
   ],
   "source": [
    "df_paws.head()"
   ]
  },
  {
   "cell_type": "code",
   "execution_count": 73,
   "metadata": {},
   "outputs": [
    {
     "data": {
      "text/html": [
       "<div>\n",
       "<style scoped>\n",
       "    .dataframe tbody tr th:only-of-type {\n",
       "        vertical-align: middle;\n",
       "    }\n",
       "\n",
       "    .dataframe tbody tr th {\n",
       "        vertical-align: top;\n",
       "    }\n",
       "\n",
       "    .dataframe thead th {\n",
       "        text-align: right;\n",
       "    }\n",
       "</style>\n",
       "<table border=\"1\" class=\"dataframe\">\n",
       "  <thead>\n",
       "    <tr style=\"text-align: right;\">\n",
       "      <th>actual</th>\n",
       "      <th>cat</th>\n",
       "      <th>dog</th>\n",
       "    </tr>\n",
       "    <tr>\n",
       "      <th>model1</th>\n",
       "      <th></th>\n",
       "      <th></th>\n",
       "    </tr>\n",
       "  </thead>\n",
       "  <tbody>\n",
       "    <tr>\n",
       "      <th>cat</th>\n",
       "      <td>1423</td>\n",
       "      <td>640</td>\n",
       "    </tr>\n",
       "    <tr>\n",
       "      <th>dog</th>\n",
       "      <td>323</td>\n",
       "      <td>2614</td>\n",
       "    </tr>\n",
       "  </tbody>\n",
       "</table>\n",
       "</div>"
      ],
      "text/plain": [
       "actual   cat   dog\n",
       "model1            \n",
       "cat     1423   640\n",
       "dog      323  2614"
      ]
     },
     "execution_count": 73,
     "metadata": {},
     "output_type": "execute_result"
    }
   ],
   "source": [
    "pd.crosstab(df_paws.model1, df_paws.actual)"
   ]
  },
  {
   "cell_type": "markdown",
   "metadata": {},
   "source": [
    "Given this dataset, use pandas to create a baseline model (i.e. a model that just predicts the most common class) and answer the following questions:"
   ]
  },
  {
   "cell_type": "code",
   "execution_count": 74,
   "metadata": {},
   "outputs": [],
   "source": [
    "df_paws['baseline_prediction'] = 'dog'\n"
   ]
  },
  {
   "cell_type": "markdown",
   "metadata": {},
   "source": [
    "a. In terms of accuracy, how do the various models compare to the baseline model? Are any of the models better than the baseline?"
   ]
  },
  {
   "cell_type": "code",
   "execution_count": 75,
   "metadata": {},
   "outputs": [],
   "source": [
    "model_accuracy1 = (df_paws.model1 == df_paws.actual).mean()\n",
    "model_accuracy2 = (df_paws.model2 == df_paws.actual).mean()\n",
    "model_accuracy3 = (df_paws.model3 == df_paws.actual).mean()\n",
    "model_accuracy4 = (df_paws.model4 == df_paws.actual).mean()\n",
    "\n",
    "baseline_accuracy = (df_paws.baseline_prediction == df_paws.actual).mean()"
   ]
  },
  {
   "cell_type": "code",
   "execution_count": 123,
   "metadata": {},
   "outputs": [
    {
     "name": "stdout",
     "output_type": "stream",
     "text": [
      "   model accuracy1: 80.74%\n",
      "   model accuracy2: 63.04%\n",
      "   model accuracy3: 50.96%\n",
      "   model accuracy4: 74.26%\n",
      " baseline accuracy: 65.08%\n"
     ]
    }
   ],
   "source": [
    "print(f'   model accuracy1: {model_accuracy1:.2%}')\n",
    "print(f'   model accuracy2: {model_accuracy2:.2%}')\n",
    "print(f'   model accuracy3: {model_accuracy3:.2%}')\n",
    "print(f'   model accuracy4: {model_accuracy4:.2%}')\n",
    "print(f' baseline accuracy: {baseline_accuracy:.2%}')"
   ]
  },
  {
   "cell_type": "markdown",
   "metadata": {},
   "source": [
    "**model1 and 4 are better than the baseline**"
   ]
  },
  {
   "cell_type": "markdown",
   "metadata": {},
   "source": [
    "b. Suppose you are working on a team that solely deals with dog pictures. Which of these models would you recomend for Phase I? For Phase II?\n"
   ]
  },
  {
   "cell_type": "code",
   "execution_count": 124,
   "metadata": {},
   "outputs": [
    {
     "data": {
      "text/plain": [
       "['model1', 'model2', 'model3', 'model4', 'baseline_prediction']"
      ]
     },
     "execution_count": 124,
     "metadata": {},
     "output_type": "execute_result"
    }
   ],
   "source": [
    "models = list(df_paws.columns)\n",
    "models = models[1:]\n",
    "models"
   ]
  },
  {
   "cell_type": "code",
   "execution_count": null,
   "metadata": {},
   "outputs": [],
   "source": [
    "output = {}\n",
    "for model in models:\n",
    "    accuracy = (df_paws.model == df_paws.actual).mean()\n",
    "    output = output.update(model,accuracy)"
   ]
  },
  {
   "cell_type": "code",
   "execution_count": 130,
   "metadata": {},
   "outputs": [],
   "source": [
    "subset = df_paws[df_paws.actual == 'dog']\n",
    "\n",
    "model1_recall = (subset.model1 == subset.actual).mean()\n",
    "model2_recall = (subset.model2 == subset.actual).mean()\n",
    "model3_recall = (subset.model3 == subset.actual).mean()\n",
    "model4_recall = (subset.model4 == subset.actual).mean()\n",
    "baseline_recall = (subset.baseline_prediction == subset.actual).mean()"
   ]
  },
  {
   "cell_type": "code",
   "execution_count": 131,
   "metadata": {},
   "outputs": [
    {
     "name": "stdout",
     "output_type": "stream",
     "text": [
      "         The recall for model 1 is: 80.33%\n",
      "         The recall for model 2 is: 49.08%\n",
      "         The recall for model 3 is: 50.86%\n",
      "         The recall for model 4 is: 95.57%\n",
      "The baseline recall for defects is: 100.00%\n"
     ]
    }
   ],
   "source": [
    "print(f'         The recall for model 1 is: {model1_recall:.2%}')\n",
    "print(f'         The recall for model 2 is: {model2_recall:.2%}')\n",
    "print(f'         The recall for model 3 is: {model3_recall:.2%}')\n",
    "print(f'         The recall for model 4 is: {model4_recall:.2%}')\n",
    "print(f'The baseline recall for defects is: {baseline_recall:.2%}')"
   ]
  },
  {
   "cell_type": "markdown",
   "metadata": {},
   "source": [
    "- **model 4 with recall for phase 1**"
   ]
  },
  {
   "cell_type": "code",
   "execution_count": 132,
   "metadata": {},
   "outputs": [],
   "source": [
    "subset1 = df_paws[df_paws.model1 == 'dog']\n",
    "subset2 = df_paws[df_paws.model2 == 'dog']\n",
    "subset3 = df_paws[df_paws.model3 == 'dog']\n",
    "subset4 = df_paws[df_paws.model4 == 'dog']\n",
    "\n",
    "model1_precision = (subset1.model1 == subset1.actual).mean()\n",
    "model2_precision = (subset2.model2 == subset2.actual).mean()\n",
    "model3_precision = (subset3.model3 == subset3.actual).mean()\n",
    "model4_precision = (subset4.model4 == subset4.actual).mean()"
   ]
  },
  {
   "cell_type": "code",
   "execution_count": 133,
   "metadata": {},
   "outputs": [
    {
     "name": "stdout",
     "output_type": "stream",
     "text": [
      "The precision for model 1 is: 89.00%\n",
      "The precision for model 2 is: 89.32%\n",
      "The precision for model 3 is: 65.99%\n",
      "The precision for model 4 is: 73.12%\n"
     ]
    }
   ],
   "source": [
    "print(f'The precision for model 1 is: {model1_precision:.2%}')\n",
    "print(f'The precision for model 2 is: {model2_precision:.2%}')\n",
    "print(f'The precision for model 3 is: {model3_precision:.2%}')\n",
    "print(f'The precision for model 4 is: {model4_precision:.2%}')"
   ]
  },
  {
   "cell_type": "markdown",
   "metadata": {},
   "source": [
    "- **model2 with presicion**"
   ]
  },
  {
   "cell_type": "markdown",
   "metadata": {},
   "source": [
    "c. Suppose you are working on a team that solely deals with cat pictures. Which of these models would you recomend for Phase I? For Phase II?\n"
   ]
  },
  {
   "cell_type": "code",
   "execution_count": 33,
   "metadata": {},
   "outputs": [],
   "source": [
    "df_paws['baseline_prediction'] = 'cat'\n",
    "\n",
    "subset = df_paws[df_paws.actual == 'cat']\n",
    "\n",
    "model1_recall = (subset.model1 == subset.actual).mean()\n",
    "model2_recall = (subset.model2 == subset.actual).mean()\n",
    "model3_recall = (subset.model3 == subset.actual).mean()\n",
    "model4_recall = (subset.model4 == subset.actual).mean()\n",
    "baseline_recall = (subset.baseline_prediction == subset.actual).mean()"
   ]
  },
  {
   "cell_type": "code",
   "execution_count": 34,
   "metadata": {},
   "outputs": [
    {
     "name": "stdout",
     "output_type": "stream",
     "text": [
      "         The recall for model 1 is: 81.50%\n",
      "         The recall for model 2 is: 89.06%\n",
      "         The recall for model 3 is: 51.15%\n",
      "         The recall for model 4 is: 34.54%\n",
      "The baseline recall for defects is: 100.00%\n"
     ]
    }
   ],
   "source": [
    "print(f'         The recall for model 1 is: {model1_recall:.2%}')\n",
    "print(f'         The recall for model 2 is: {model2_recall:.2%}')\n",
    "print(f'         The recall for model 3 is: {model3_recall:.2%}')\n",
    "print(f'         The recall for model 4 is: {model4_recall:.2%}')\n",
    "print(f'The baseline recall for defects is: {baseline_recall:.2%}')"
   ]
  },
  {
   "cell_type": "markdown",
   "metadata": {},
   "source": [
    "- **model2 with recall for phase 1**\n"
   ]
  },
  {
   "cell_type": "code",
   "execution_count": 134,
   "metadata": {},
   "outputs": [],
   "source": [
    "subset1 = df_paws[df_paws.model1 == 'cat']\n",
    "subset2 = df_paws[df_paws.model2 == 'cat']\n",
    "subset3 = df_paws[df_paws.model3 == 'cat']\n",
    "subset4 = df_paws[df_paws.model4 == 'cat']\n",
    "\n",
    "model1_precision = (subset1.model1 == subset1.actual).mean()\n",
    "model2_precision = (subset2.model2 == subset2.actual).mean()\n",
    "model3_precision = (subset3.model3 == subset3.actual).mean()\n",
    "model4_precision = (subset4.model4 == subset4.actual).mean()"
   ]
  },
  {
   "cell_type": "code",
   "execution_count": 135,
   "metadata": {},
   "outputs": [
    {
     "name": "stdout",
     "output_type": "stream",
     "text": [
      "The precision for model 1 is: 68.98%\n",
      "The precision for model 2 is: 48.41%\n",
      "The precision for model 3 is: 35.83%\n",
      "The precision for model 4 is: 80.72%\n"
     ]
    }
   ],
   "source": [
    "print(f'The precision for model 1 is: {model1_precision:.2%}')\n",
    "print(f'The precision for model 2 is: {model2_precision:.2%}')\n",
    "print(f'The precision for model 3 is: {model3_precision:.2%}')\n",
    "print(f'The precision for model 4 is: {model4_precision:.2%}')"
   ]
  },
  {
   "cell_type": "markdown",
   "metadata": {},
   "source": [
    "- **model4 with precision for phase 2**\n"
   ]
  },
  {
   "cell_type": "markdown",
   "metadata": {},
   "source": [
    "5. Follow the links below to read the documentation about each function, then apply those functions to the data from the previous problem."
   ]
  },
  {
   "cell_type": "markdown",
   "metadata": {},
   "source": [
    "- sklearn.metrics.accuracy_score"
   ]
  },
  {
   "cell_type": "code",
   "execution_count": 78,
   "metadata": {},
   "outputs": [],
   "source": [
    "from sklearn.metrics import accuracy_score"
   ]
  },
  {
   "cell_type": "code",
   "execution_count": 79,
   "metadata": {},
   "outputs": [
    {
     "name": "stdout",
     "output_type": "stream",
     "text": [
      "The accuracy score of model1 is: 80.74%\n",
      "The accuracy score of model2 is: 63.04%\n",
      "The accuracy score of model3 is: 50.96%\n",
      "The accuracy score of model4 is: 74.26%\n"
     ]
    }
   ],
   "source": [
    "y_pred1 = df_paws.model1\n",
    "y_pred2 = df_paws.model2\n",
    "y_pred3 = df_paws.model3\n",
    "y_pred4 = df_paws.model4\n",
    "y_true = df_paws.actual\n",
    "\n",
    "accuracy_score1 = accuracy_score(y_pred1,y_true)\n",
    "accuracy_score2 = accuracy_score(y_pred2,y_true)\n",
    "accuracy_score3 = accuracy_score(y_pred3,y_true)\n",
    "accuracy_score4 = accuracy_score(y_pred4,y_true)\n",
    "\n",
    "\n",
    "print(f'The accuracy score of model1 is: {accuracy_score1:.2%}')\n",
    "print(f'The accuracy score of model2 is: {accuracy_score2:.2%}')\n",
    "print(f'The accuracy score of model3 is: {accuracy_score3:.2%}')\n",
    "print(f'The accuracy score of model4 is: {accuracy_score4:.2%}')"
   ]
  },
  {
   "cell_type": "markdown",
   "metadata": {},
   "source": [
    "- sklearn.metrics.precision_score"
   ]
  },
  {
   "cell_type": "code",
   "execution_count": 80,
   "metadata": {},
   "outputs": [],
   "source": [
    "from sklearn.metrics import precision_score"
   ]
  },
  {
   "cell_type": "code",
   "execution_count": 82,
   "metadata": {},
   "outputs": [
    {
     "name": "stdout",
     "output_type": "stream",
     "text": [
      "The precision score of model1 is: 80.92%\n",
      "The precision score of model2 is: 69.07%\n",
      "The precision score of model3 is: 51.00%\n",
      "The precision score of model4 is: 65.06%\n"
     ]
    }
   ],
   "source": [
    "precision_score1 = precision_score(y_pred1, y_true, average='macro')\n",
    "precision_score2 = precision_score(y_pred2, y_true, average='macro')\n",
    "precision_score3 = precision_score(y_pred3, y_true, average='macro')\n",
    "precision_score4 = precision_score(y_pred4, y_true, average='macro')\n",
    " \n",
    "\n",
    "print(f'The precision score of model1 is: {precision_score1:.2%}')\n",
    "print(f'The precision score of model2 is: {precision_score2:.2%}')\n",
    "print(f'The precision score of model3 is: {precision_score3:.2%}')\n",
    "print(f'The precision score of model4 is: {precision_score4:.2%}')"
   ]
  },
  {
   "cell_type": "markdown",
   "metadata": {},
   "source": [
    "- sklearn.metrics.recall_score"
   ]
  },
  {
   "cell_type": "code",
   "execution_count": 83,
   "metadata": {},
   "outputs": [],
   "source": [
    "from sklearn.metrics import recall_score"
   ]
  },
  {
   "cell_type": "code",
   "execution_count": 84,
   "metadata": {},
   "outputs": [
    {
     "name": "stdout",
     "output_type": "stream",
     "text": [
      "The recall score of model1 is: 78.99%\n",
      "The recall score of model2 is: 68.86%\n",
      "The recall score of model3 is: 50.91%\n",
      "The recall score of model4 is: 76.92%\n"
     ]
    }
   ],
   "source": [
    "recall_score1 = recall_score(y_pred1, y_true, average='macro')\n",
    "recall_score2 = recall_score(y_pred2, y_true, average='macro')\n",
    "recall_score3 = recall_score(y_pred3, y_true, average='macro')\n",
    "recall_score4 = recall_score(y_pred4, y_true, average='macro')\n",
    " \n",
    "\n",
    "print(f'The recall score of model1 is: {recall_score1:.2%}')\n",
    "print(f'The recall score of model2 is: {recall_score2:.2%}')\n",
    "print(f'The recall score of model3 is: {recall_score3:.2%}')\n",
    "print(f'The recall score of model4 is: {recall_score4:.2%}')"
   ]
  },
  {
   "cell_type": "markdown",
   "metadata": {},
   "source": [
    "- sklearn.metrics.classification_report"
   ]
  },
  {
   "cell_type": "code",
   "execution_count": 85,
   "metadata": {},
   "outputs": [],
   "source": [
    "from sklearn.metrics import classification_report"
   ]
  },
  {
   "cell_type": "code",
   "execution_count": 86,
   "metadata": {},
   "outputs": [
    {
     "name": "stdout",
     "output_type": "stream",
     "text": [
      "The classification report of model1 is:\n",
      "\n",
      "               precision    recall  f1-score   support\n",
      "\n",
      "         cat       0.82      0.69      0.75      2063\n",
      "         dog       0.80      0.89      0.84      2937\n",
      "\n",
      "    accuracy                           0.81      5000\n",
      "   macro avg       0.81      0.79      0.80      5000\n",
      "weighted avg       0.81      0.81      0.80      5000\n",
      "\n",
      "\n",
      "\n",
      "\n",
      "The classification report of model2 is:\n",
      "\n",
      "               precision    recall  f1-score   support\n",
      "\n",
      "         cat       0.89      0.48      0.63      3212\n",
      "         dog       0.49      0.89      0.63      1788\n",
      "\n",
      "    accuracy                           0.63      5000\n",
      "   macro avg       0.69      0.69      0.63      5000\n",
      "weighted avg       0.75      0.63      0.63      5000\n",
      "\n",
      "\n",
      "\n",
      "\n",
      "The classification report of model3 is:\n",
      "\n",
      "               precision    recall  f1-score   support\n",
      "\n",
      "         cat       0.51      0.36      0.42      2492\n",
      "         dog       0.51      0.66      0.57      2508\n",
      "\n",
      "    accuracy                           0.51      5000\n",
      "   macro avg       0.51      0.51      0.50      5000\n",
      "weighted avg       0.51      0.51      0.50      5000\n",
      "\n",
      "\n",
      "\n",
      "\n",
      "The classification report of model4 is:\n",
      "\n",
      "               precision    recall  f1-score   support\n",
      "\n",
      "         cat       0.35      0.81      0.48       747\n",
      "         dog       0.96      0.73      0.83      4253\n",
      "\n",
      "    accuracy                           0.74      5000\n",
      "   macro avg       0.65      0.77      0.66      5000\n",
      "weighted avg       0.86      0.74      0.78      5000\n",
      "\n"
     ]
    }
   ],
   "source": [
    "classification_report1 = classification_report(y_pred1,y_true)\n",
    "classification_report2 = classification_report(y_pred2,y_true)\n",
    "classification_report3 = classification_report(y_pred3,y_true)\n",
    "classification_report4 = classification_report(y_pred4,y_true)\n",
    "\n",
    "\n",
    "print(f'The classification report of model1 is:\\n\\n {classification_report1}\\n\\n\\n')\n",
    "print(f'The classification report of model2 is:\\n\\n {classification_report2}\\n\\n\\n')\n",
    "print(f'The classification report of model3 is:\\n\\n {classification_report3}\\n\\n\\n')\n",
    "print(f'The classification report of model4 is:\\n\\n {classification_report4}')"
   ]
  },
  {
   "cell_type": "code",
   "execution_count": null,
   "metadata": {},
   "outputs": [],
   "source": []
  }
 ],
 "metadata": {
  "kernelspec": {
   "display_name": "Python 3",
   "language": "python",
   "name": "python3"
  },
  "language_info": {
   "codemirror_mode": {
    "name": "ipython",
    "version": 3
   },
   "file_extension": ".py",
   "mimetype": "text/x-python",
   "name": "python",
   "nbconvert_exporter": "python",
   "pygments_lexer": "ipython3",
   "version": "3.8.5"
  }
 },
 "nbformat": 4,
 "nbformat_minor": 4
}
