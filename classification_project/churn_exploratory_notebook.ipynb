{
 "cells": [
  {
   "cell_type": "code",
   "execution_count": 50,
   "metadata": {},
   "outputs": [],
   "source": [
    "# ignore warnings\n",
    "import warnings\n",
    "warnings.filterwarnings(\"ignore\")\n",
    "\n",
    "# Data getting, cleaning, and exploring\n",
    "from env import host, user, password\n",
    "from acquire import get_connection, new_telco_data, get_telco_data\n",
    "from prepare import clean_telco, impute_mode, train_validate_test_split,impute_mode, prep_telco_data, clean_train_val_test\n",
    "import explore\n",
    "\n",
    "# Python without these is hard\n",
    "import pandas as pd\n",
    "import numpy as np\n",
    "from pydataset import data\n",
    "\n",
    "# Machine Learning\n",
    "from sklearn.model_selection import train_test_split\n",
    "from sklearn.tree import DecisionTreeClassifier\n",
    "from sklearn.tree import export_graphviz\n",
    "from sklearn.neighbors import KNeighborsClassifier\n",
    "from sklearn.metrics import classification_report\n",
    "from sklearn.metrics import confusion_matrix\n",
    "from sklearn.ensemble import RandomForestClassifier\n",
    "\n",
    "# Visualization\n",
    "import matplotlib.pyplot as plt\n",
    "%matplotlib inline\n",
    "import seaborn as sns\n",
    "import graphviz\n",
    "from graphviz import Graph"
   ]
  },
  {
   "cell_type": "markdown",
   "metadata": {},
   "source": [
    "# Data Aquisition "
   ]
  },
  {
   "cell_type": "code",
   "execution_count": 2,
   "metadata": {},
   "outputs": [],
   "source": [
    "sql_query = '''\n",
    "    SELECT *\n",
    "    FROM customers\n",
    "    JOIN contract_types USING(`contract_type_id`)\n",
    "    JOIN internet_service_types USING(`internet_service_type_id`)\n",
    "    JOIN payment_types USING(payment_type_id);\n",
    "            '''"
   ]
  },
  {
   "cell_type": "code",
   "execution_count": 3,
   "metadata": {},
   "outputs": [],
   "source": [
    "get_db_url = f'mysql+pymysql://{user}:{password}@{host}/telco_churn'"
   ]
  },
  {
   "cell_type": "code",
   "execution_count": 4,
   "metadata": {},
   "outputs": [],
   "source": [
    "df = pd.read_sql(sql_query, get_db_url)"
   ]
  },
  {
   "cell_type": "code",
   "execution_count": 5,
   "metadata": {},
   "outputs": [
    {
     "data": {
      "text/plain": [
       "(7043, 24)"
      ]
     },
     "execution_count": 5,
     "metadata": {},
     "output_type": "execute_result"
    }
   ],
   "source": [
    "df.shape"
   ]
  },
  {
   "cell_type": "code",
   "execution_count": 6,
   "metadata": {},
   "outputs": [
    {
     "data": {
      "text/plain": [
       "<bound method Series.drop_duplicates of 0       0003-MKNFE\n",
       "1       0013-MHZWF\n",
       "2       0015-UOCOJ\n",
       "3       0023-HGHWL\n",
       "4       0032-PGELS\n",
       "           ...    \n",
       "7038    9950-MTGYX\n",
       "7039    9953-ZMKSM\n",
       "7040    9964-WBQDJ\n",
       "7041    9972-EWRJS\n",
       "7042    9975-GPKZU\n",
       "Name: customer_id, Length: 7043, dtype: object>"
      ]
     },
     "execution_count": 6,
     "metadata": {},
     "output_type": "execute_result"
    }
   ],
   "source": [
    "df.customer_id.drop_duplicates"
   ]
  },
  {
   "cell_type": "code",
   "execution_count": 7,
   "metadata": {},
   "outputs": [
    {
     "data": {
      "text/plain": [
       "(7043, 24)"
      ]
     },
     "execution_count": 7,
     "metadata": {},
     "output_type": "execute_result"
    }
   ],
   "source": [
    "df.shape"
   ]
  },
  {
   "cell_type": "code",
   "execution_count": 8,
   "metadata": {},
   "outputs": [
    {
     "data": {
      "text/plain": [
       "array(['No', 'Yes', 'No internet service'], dtype=object)"
      ]
     },
     "execution_count": 8,
     "metadata": {},
     "output_type": "execute_result"
    }
   ],
   "source": [
    "df.online_security.unique()"
   ]
  },
  {
   "cell_type": "markdown",
   "metadata": {},
   "source": [
    "# Data Preparation"
   ]
  },
  {
   "cell_type": "code",
   "execution_count": 9,
   "metadata": {},
   "outputs": [],
   "source": [
    "df.replace('No phone service', 'No', inplace=True)\n",
    "df.replace('No internet service', 'No', inplace=True)\n",
    "  "
   ]
  },
  {
   "cell_type": "code",
   "execution_count": 10,
   "metadata": {},
   "outputs": [],
   "source": [
    "dummy_df = pd.get_dummies(df[['gender','contract_type','payment_type']], drop_first=True)\n",
    "dummy2_df = pd.get_dummies(df[['internet_service_type']], drop_first=False)\n",
    "dropcols = [\n",
    "            'gender',\n",
    "            'payment_type_id',\n",
    "            'internet_service_type_id',\n",
    "            'contract_type_id',\n",
    "            'internet_service_type_none'\n",
    "               ]"
   ]
  },
  {
   "cell_type": "code",
   "execution_count": 11,
   "metadata": {},
   "outputs": [],
   "source": [
    "df = pd.concat([df, dummy_df,dummy2_df], axis=1)"
   ]
  },
  {
   "cell_type": "code",
   "execution_count": 12,
   "metadata": {},
   "outputs": [],
   "source": [
    "df.columns = df.columns.str.lower().str.replace(' ', '_').str.replace('(','').str.replace(')','')"
   ]
  },
  {
   "cell_type": "code",
   "execution_count": 13,
   "metadata": {},
   "outputs": [],
   "source": [
    "df.drop(columns=dropcols, inplace=True)"
   ]
  },
  {
   "cell_type": "code",
   "execution_count": 14,
   "metadata": {},
   "outputs": [
    {
     "data": {
      "text/plain": [
       "Index(['customer_id', 'senior_citizen', 'partner', 'dependents', 'tenure',\n",
       "       'phone_service', 'multiple_lines', 'online_security', 'online_backup',\n",
       "       'device_protection', 'tech_support', 'streaming_tv', 'streaming_movies',\n",
       "       'paperless_billing', 'monthly_charges', 'total_charges', 'churn',\n",
       "       'contract_type', 'internet_service_type', 'payment_type', 'gender_male',\n",
       "       'contract_type_one_year', 'contract_type_two_year',\n",
       "       'payment_type_credit_card_automatic', 'payment_type_electronic_check',\n",
       "       'payment_type_mailed_check', 'internet_service_type_dsl',\n",
       "       'internet_service_type_fiber_optic'],\n",
       "      dtype='object')"
      ]
     },
     "execution_count": 14,
     "metadata": {},
     "output_type": "execute_result"
    }
   ],
   "source": [
    "df.columns"
   ]
  },
  {
   "cell_type": "code",
   "execution_count": 15,
   "metadata": {},
   "outputs": [],
   "source": [
    "df.columns = ['customer_id',\n",
    " 'senior_citizen',\n",
    " 'partner',\n",
    " 'dependents',\n",
    " 'tenure',\n",
    " 'phone_service',\n",
    " 'multiple_lines',\n",
    " 'online_security',\n",
    " 'online_backup',\n",
    " 'device_protection',\n",
    " 'tech_support',\n",
    " 'streaming_tv',\n",
    " 'streaming_movies',\n",
    " 'paperless_billing',\n",
    " 'monthly_charges',\n",
    " 'total_charges',\n",
    " 'churn',\n",
    " 'contract_type',\n",
    " 'internet_service_type',\n",
    " 'payment_type',\n",
    " 'gender_male',\n",
    " 'one_year_contract',\n",
    " 'two_year_contract',\n",
    " 'credit_card_payment',\n",
    " 'e_check_payment',\n",
    " 'mailed_check_payment',\n",
    " 'dsl_internet',\n",
    " 'fiber_optic_internet']"
   ]
  },
  {
   "cell_type": "code",
   "execution_count": 16,
   "metadata": {},
   "outputs": [],
   "source": [
    "df.total_charges = pd.to_numeric(df.total_charges, errors='coerce').astype('float64')"
   ]
  },
  {
   "cell_type": "code",
   "execution_count": 17,
   "metadata": {},
   "outputs": [],
   "source": [
    "df.total_charges = df.total_charges.fillna(0)"
   ]
  },
  {
   "cell_type": "code",
   "execution_count": 18,
   "metadata": {},
   "outputs": [],
   "source": [
    "quant_vars = ['tenure','monthly_charges','total_charges']\n",
    "cat_vars = list((df.columns).drop(quant_vars))"
   ]
  },
  {
   "cell_type": "code",
   "execution_count": 19,
   "metadata": {},
   "outputs": [],
   "source": [
    "df1 = df[df.isna().any(axis=1)].drop(columns=cat_vars)"
   ]
  },
  {
   "cell_type": "code",
   "execution_count": 20,
   "metadata": {},
   "outputs": [
    {
     "data": {
      "text/html": [
       "<div>\n",
       "<style scoped>\n",
       "    .dataframe tbody tr th:only-of-type {\n",
       "        vertical-align: middle;\n",
       "    }\n",
       "\n",
       "    .dataframe tbody tr th {\n",
       "        vertical-align: top;\n",
       "    }\n",
       "\n",
       "    .dataframe thead th {\n",
       "        text-align: right;\n",
       "    }\n",
       "</style>\n",
       "<table border=\"1\" class=\"dataframe\">\n",
       "  <thead>\n",
       "    <tr style=\"text-align: right;\">\n",
       "      <th></th>\n",
       "      <th>tenure</th>\n",
       "      <th>monthly_charges</th>\n",
       "      <th>total_charges</th>\n",
       "    </tr>\n",
       "  </thead>\n",
       "  <tbody>\n",
       "  </tbody>\n",
       "</table>\n",
       "</div>"
      ],
      "text/plain": [
       "Empty DataFrame\n",
       "Columns: [tenure, monthly_charges, total_charges]\n",
       "Index: []"
      ]
     },
     "execution_count": 20,
     "metadata": {},
     "output_type": "execute_result"
    }
   ],
   "source": [
    "df1.head()"
   ]
  },
  {
   "cell_type": "code",
   "execution_count": 21,
   "metadata": {},
   "outputs": [],
   "source": [
    "df1.total_charges = df1.total_charges.fillna(value=0)"
   ]
  },
  {
   "cell_type": "code",
   "execution_count": 22,
   "metadata": {},
   "outputs": [
    {
     "data": {
      "text/plain": [
       "0"
      ]
     },
     "execution_count": 22,
     "metadata": {},
     "output_type": "execute_result"
    }
   ],
   "source": [
    "df1.total_charges.isnull().sum()"
   ]
  },
  {
   "cell_type": "code",
   "execution_count": 23,
   "metadata": {},
   "outputs": [],
   "source": [
    "df = df.replace(\"Yes\", 1).replace(\"No\", 0)"
   ]
  },
  {
   "cell_type": "code",
   "execution_count": 24,
   "metadata": {},
   "outputs": [
    {
     "data": {
      "text/plain": [
       "count    7043.000000\n",
       "mean       64.761692\n",
       "std        30.090047\n",
       "min        18.250000\n",
       "25%        35.500000\n",
       "50%        70.350000\n",
       "75%        89.850000\n",
       "max       118.750000\n",
       "Name: monthly_charges, dtype: float64"
      ]
     },
     "execution_count": 24,
     "metadata": {},
     "output_type": "execute_result"
    }
   ],
   "source": [
    "df.monthly_charges.describe()"
   ]
  },
  {
   "cell_type": "code",
   "execution_count": 24,
   "metadata": {},
   "outputs": [],
   "source": [
    "train, validate, test = train_validate_test_split(df)\n",
    "target = 'churn'"
   ]
  },
  {
   "cell_type": "code",
   "execution_count": 25,
   "metadata": {},
   "outputs": [
    {
     "data": {
      "text/plain": [
       "((3943, 28), (1691, 28), (1409, 28))"
      ]
     },
     "execution_count": 25,
     "metadata": {},
     "output_type": "execute_result"
    }
   ],
   "source": [
    "train.shape, validate.shape, test.shape"
   ]
  },
  {
   "cell_type": "code",
   "execution_count": 26,
   "metadata": {},
   "outputs": [
    {
     "data": {
      "text/html": [
       "<div>\n",
       "<style scoped>\n",
       "    .dataframe tbody tr th:only-of-type {\n",
       "        vertical-align: middle;\n",
       "    }\n",
       "\n",
       "    .dataframe tbody tr th {\n",
       "        vertical-align: top;\n",
       "    }\n",
       "\n",
       "    .dataframe thead th {\n",
       "        text-align: right;\n",
       "    }\n",
       "</style>\n",
       "<table border=\"1\" class=\"dataframe\">\n",
       "  <thead>\n",
       "    <tr style=\"text-align: right;\">\n",
       "      <th></th>\n",
       "      <th>customer_id</th>\n",
       "      <th>senior_citizen</th>\n",
       "      <th>partner</th>\n",
       "      <th>dependents</th>\n",
       "      <th>tenure</th>\n",
       "      <th>phone_service</th>\n",
       "      <th>multiple_lines</th>\n",
       "      <th>online_security</th>\n",
       "      <th>online_backup</th>\n",
       "      <th>device_protection</th>\n",
       "      <th>...</th>\n",
       "      <th>internet_service_type</th>\n",
       "      <th>payment_type</th>\n",
       "      <th>gender_male</th>\n",
       "      <th>one_year_contract</th>\n",
       "      <th>two_year_contract</th>\n",
       "      <th>credit_card_payment</th>\n",
       "      <th>e_check_payment</th>\n",
       "      <th>mailed_check_payment</th>\n",
       "      <th>dsl_internet</th>\n",
       "      <th>fiber_optic_internet</th>\n",
       "    </tr>\n",
       "  </thead>\n",
       "  <tbody>\n",
       "    <tr>\n",
       "      <th>5670</th>\n",
       "      <td>2739-CCZMB</td>\n",
       "      <td>0</td>\n",
       "      <td>0</td>\n",
       "      <td>1</td>\n",
       "      <td>5</td>\n",
       "      <td>1</td>\n",
       "      <td>0</td>\n",
       "      <td>0</td>\n",
       "      <td>0</td>\n",
       "      <td>0</td>\n",
       "      <td>...</td>\n",
       "      <td>None</td>\n",
       "      <td>Credit card (automatic)</td>\n",
       "      <td>1</td>\n",
       "      <td>0</td>\n",
       "      <td>0</td>\n",
       "      <td>1</td>\n",
       "      <td>0</td>\n",
       "      <td>0</td>\n",
       "      <td>0</td>\n",
       "      <td>0</td>\n",
       "    </tr>\n",
       "    <tr>\n",
       "      <th>4152</th>\n",
       "      <td>8035-PWSEV</td>\n",
       "      <td>0</td>\n",
       "      <td>0</td>\n",
       "      <td>0</td>\n",
       "      <td>6</td>\n",
       "      <td>1</td>\n",
       "      <td>0</td>\n",
       "      <td>0</td>\n",
       "      <td>0</td>\n",
       "      <td>1</td>\n",
       "      <td>...</td>\n",
       "      <td>Fiber optic</td>\n",
       "      <td>Electronic check</td>\n",
       "      <td>0</td>\n",
       "      <td>0</td>\n",
       "      <td>0</td>\n",
       "      <td>0</td>\n",
       "      <td>1</td>\n",
       "      <td>0</td>\n",
       "      <td>0</td>\n",
       "      <td>1</td>\n",
       "    </tr>\n",
       "    <tr>\n",
       "      <th>4890</th>\n",
       "      <td>6250-CGGUN</td>\n",
       "      <td>0</td>\n",
       "      <td>0</td>\n",
       "      <td>0</td>\n",
       "      <td>54</td>\n",
       "      <td>1</td>\n",
       "      <td>0</td>\n",
       "      <td>1</td>\n",
       "      <td>0</td>\n",
       "      <td>1</td>\n",
       "      <td>...</td>\n",
       "      <td>Fiber optic</td>\n",
       "      <td>Electronic check</td>\n",
       "      <td>1</td>\n",
       "      <td>1</td>\n",
       "      <td>0</td>\n",
       "      <td>0</td>\n",
       "      <td>1</td>\n",
       "      <td>0</td>\n",
       "      <td>0</td>\n",
       "      <td>1</td>\n",
       "    </tr>\n",
       "    <tr>\n",
       "      <th>2391</th>\n",
       "      <td>9499-XPZXM</td>\n",
       "      <td>0</td>\n",
       "      <td>1</td>\n",
       "      <td>0</td>\n",
       "      <td>72</td>\n",
       "      <td>1</td>\n",
       "      <td>1</td>\n",
       "      <td>1</td>\n",
       "      <td>1</td>\n",
       "      <td>0</td>\n",
       "      <td>...</td>\n",
       "      <td>DSL</td>\n",
       "      <td>Bank transfer (automatic)</td>\n",
       "      <td>0</td>\n",
       "      <td>0</td>\n",
       "      <td>1</td>\n",
       "      <td>0</td>\n",
       "      <td>0</td>\n",
       "      <td>0</td>\n",
       "      <td>1</td>\n",
       "      <td>0</td>\n",
       "    </tr>\n",
       "    <tr>\n",
       "      <th>2896</th>\n",
       "      <td>2305-MRGLV</td>\n",
       "      <td>0</td>\n",
       "      <td>1</td>\n",
       "      <td>0</td>\n",
       "      <td>28</td>\n",
       "      <td>1</td>\n",
       "      <td>0</td>\n",
       "      <td>0</td>\n",
       "      <td>0</td>\n",
       "      <td>0</td>\n",
       "      <td>...</td>\n",
       "      <td>Fiber optic</td>\n",
       "      <td>Bank transfer (automatic)</td>\n",
       "      <td>1</td>\n",
       "      <td>0</td>\n",
       "      <td>0</td>\n",
       "      <td>0</td>\n",
       "      <td>0</td>\n",
       "      <td>0</td>\n",
       "      <td>0</td>\n",
       "      <td>1</td>\n",
       "    </tr>\n",
       "  </tbody>\n",
       "</table>\n",
       "<p>5 rows × 28 columns</p>\n",
       "</div>"
      ],
      "text/plain": [
       "     customer_id  senior_citizen  partner  dependents  tenure  phone_service  \\\n",
       "5670  2739-CCZMB               0        0           1       5              1   \n",
       "4152  8035-PWSEV               0        0           0       6              1   \n",
       "4890  6250-CGGUN               0        0           0      54              1   \n",
       "2391  9499-XPZXM               0        1           0      72              1   \n",
       "2896  2305-MRGLV               0        1           0      28              1   \n",
       "\n",
       "      multiple_lines  online_security  online_backup  device_protection  ...  \\\n",
       "5670               0                0              0                  0  ...   \n",
       "4152               0                0              0                  1  ...   \n",
       "4890               0                1              0                  1  ...   \n",
       "2391               1                1              1                  0  ...   \n",
       "2896               0                0              0                  0  ...   \n",
       "\n",
       "      internet_service_type               payment_type  gender_male  \\\n",
       "5670                   None    Credit card (automatic)            1   \n",
       "4152            Fiber optic           Electronic check            0   \n",
       "4890            Fiber optic           Electronic check            1   \n",
       "2391                    DSL  Bank transfer (automatic)            0   \n",
       "2896            Fiber optic  Bank transfer (automatic)            1   \n",
       "\n",
       "      one_year_contract  two_year_contract  credit_card_payment  \\\n",
       "5670                  0                  0                    1   \n",
       "4152                  0                  0                    0   \n",
       "4890                  1                  0                    0   \n",
       "2391                  0                  1                    0   \n",
       "2896                  0                  0                    0   \n",
       "\n",
       "      e_check_payment mailed_check_payment dsl_internet fiber_optic_internet  \n",
       "5670                0                    0            0                    0  \n",
       "4152                1                    0            0                    1  \n",
       "4890                1                    0            0                    1  \n",
       "2391                0                    0            1                    0  \n",
       "2896                0                    0            0                    1  \n",
       "\n",
       "[5 rows x 28 columns]"
      ]
     },
     "execution_count": 26,
     "metadata": {},
     "output_type": "execute_result"
    }
   ],
   "source": [
    "train.head()"
   ]
  },
  {
   "cell_type": "code",
   "execution_count": 46,
   "metadata": {},
   "outputs": [],
   "source": [
    "train1 = train.drop(columns=[\n",
    " 'senior_citizen',\n",
    " 'partner',\n",
    " 'dependents',\n",
    " 'tenure',\n",
    " 'phone_service',\n",
    " 'multiple_lines',\n",
    " 'paperless_billing',\n",
    " 'monthly_charges',\n",
    " 'total_charges',\n",
    " 'contract_type',\n",
    " 'internet_service_type',\n",
    " 'payment_type',\n",
    " 'gender_male',\n",
    " 'one_year_contract',\n",
    " 'two_year_contract',\n",
    " 'credit_card_payment',\n",
    " 'e_check_payment',\n",
    " 'mailed_check_payment',\n",
    " 'dsl_internet',\n",
    " 'fiber_optic_internet'])"
   ]
  },
  {
   "cell_type": "code",
   "execution_count": 47,
   "metadata": {},
   "outputs": [],
   "source": [
    "train_melt = train1.melt(id_vars=['customer_id', 'churn'], var_name='online_services')"
   ]
  },
  {
   "cell_type": "code",
   "execution_count": 48,
   "metadata": {},
   "outputs": [],
   "source": [
    "train_melt = train_melt.groupby('customer_id').sum()"
   ]
  },
  {
   "cell_type": "code",
   "execution_count": 51,
   "metadata": {},
   "outputs": [],
   "source": [
    "train_melt['churn'] = train_melt.churn.replace(6, 1)"
   ]
  },
  {
   "cell_type": "code",
   "execution_count": 55,
   "metadata": {},
   "outputs": [
    {
     "data": {
      "text/html": [
       "<div>\n",
       "<style scoped>\n",
       "    .dataframe tbody tr th:only-of-type {\n",
       "        vertical-align: middle;\n",
       "    }\n",
       "\n",
       "    .dataframe tbody tr th {\n",
       "        vertical-align: top;\n",
       "    }\n",
       "\n",
       "    .dataframe thead th {\n",
       "        text-align: right;\n",
       "    }\n",
       "</style>\n",
       "<table border=\"1\" class=\"dataframe\">\n",
       "  <thead>\n",
       "    <tr style=\"text-align: right;\">\n",
       "      <th></th>\n",
       "      <th>churn</th>\n",
       "      <th>value</th>\n",
       "    </tr>\n",
       "    <tr>\n",
       "      <th>customer_id</th>\n",
       "      <th></th>\n",
       "      <th></th>\n",
       "    </tr>\n",
       "  </thead>\n",
       "  <tbody>\n",
       "    <tr>\n",
       "      <th>0219-YTZUE</th>\n",
       "      <td>1</td>\n",
       "      <td>2</td>\n",
       "    </tr>\n",
       "    <tr>\n",
       "      <th>0266-CLZKZ</th>\n",
       "      <td>0</td>\n",
       "      <td>4</td>\n",
       "    </tr>\n",
       "    <tr>\n",
       "      <th>9036-CSKBW</th>\n",
       "      <td>0</td>\n",
       "      <td>5</td>\n",
       "    </tr>\n",
       "    <tr>\n",
       "      <th>7319-ZNRTR</th>\n",
       "      <td>0</td>\n",
       "      <td>0</td>\n",
       "    </tr>\n",
       "    <tr>\n",
       "      <th>6818-DJXAA</th>\n",
       "      <td>0</td>\n",
       "      <td>3</td>\n",
       "    </tr>\n",
       "    <tr>\n",
       "      <th>5862-BRIXZ</th>\n",
       "      <td>0</td>\n",
       "      <td>5</td>\n",
       "    </tr>\n",
       "    <tr>\n",
       "      <th>1150-FTQGN</th>\n",
       "      <td>0</td>\n",
       "      <td>3</td>\n",
       "    </tr>\n",
       "    <tr>\n",
       "      <th>8185-UPYBR</th>\n",
       "      <td>1</td>\n",
       "      <td>0</td>\n",
       "    </tr>\n",
       "    <tr>\n",
       "      <th>9840-EFJQB</th>\n",
       "      <td>0</td>\n",
       "      <td>1</td>\n",
       "    </tr>\n",
       "    <tr>\n",
       "      <th>3179-GBRWV</th>\n",
       "      <td>0</td>\n",
       "      <td>3</td>\n",
       "    </tr>\n",
       "  </tbody>\n",
       "</table>\n",
       "</div>"
      ],
      "text/plain": [
       "             churn  value\n",
       "customer_id              \n",
       "0219-YTZUE       1      2\n",
       "0266-CLZKZ       0      4\n",
       "9036-CSKBW       0      5\n",
       "7319-ZNRTR       0      0\n",
       "6818-DJXAA       0      3\n",
       "5862-BRIXZ       0      5\n",
       "1150-FTQGN       0      3\n",
       "8185-UPYBR       1      0\n",
       "9840-EFJQB       0      1\n",
       "3179-GBRWV       0      3"
      ]
     },
     "execution_count": 55,
     "metadata": {},
     "output_type": "execute_result"
    }
   ],
   "source": [
    "train_melt.sample(10)"
   ]
  },
  {
   "cell_type": "code",
   "execution_count": 53,
   "metadata": {},
   "outputs": [
    {
     "name": "stdout",
     "output_type": "stream",
     "text": [
      "value \n",
      "_____________________\n",
      "\n",
      "         chi2       p-value  degrees of freedom\n",
      "0  181.338313  1.763412e-36                   6\n",
      "\n",
      "observed:\n",
      " churn     0     1   All\n",
      "value                  \n",
      "0       973   280  1253\n",
      "1       301   229   530\n",
      "2       383   209   592\n",
      "3       448   175   623\n",
      "4       375   104   479\n",
      "5       272    41   313\n",
      "6       145     8   153\n",
      "All    2897  1046  3943\n",
      "\n",
      "expected:\n",
      "             0           1\n",
      "0  920.603855  332.396145\n",
      "1  389.401471  140.598529\n",
      "2  434.954096  157.045904\n",
      "3  457.730408  165.269592\n",
      "4  351.930763  127.069237\n",
      "5  229.967284   83.032716\n",
      "6  112.412123   40.587877\n"
     ]
    },
    {
     "data": {
      "image/png": "[encoded data removed]",
      "text/plain": [
       "<Figure size 144x144 with 1 Axes>"
      ]
     },
     "metadata": {
      "needs_background": "light"
     },
     "output_type": "display_data"
    },
    {
     "name": "stdout",
     "output_type": "stream",
     "text": [
      "\n",
      "_____________________\n",
      "\n"
     ]
    }
   ],
   "source": [
    "explore.explore_bivariate_categorical(train_melt, 'churn', 'value')"
   ]
  },
  {
   "cell_type": "code",
   "execution_count": 54,
   "metadata": {},
   "outputs": [
    {
     "name": "stdout",
     "output_type": "stream",
     "text": [
      "value \n",
      "____________________\n",
      "\n"
     ]
    },
    {
     "data": {
      "image/png": "[encoded data removed]",
      "text/plain": [
       "<Figure size 288x288 with 1 Axes>"
      ]
     },
     "metadata": {
      "needs_background": "light"
     },
     "output_type": "display_data"
    },
    {
     "name": "stdout",
     "output_type": "stream",
     "text": [
      "        count      mean       std  min  25%  50%  75%  max\n",
      "churn                                                     \n",
      "0      2897.0  2.119779  1.937155  0.0  0.0  2.0  4.0  6.0\n",
      "1      1046.0  1.760038  1.508118  0.0  0.0  2.0  3.0  6.0 \n",
      "\n",
      "\n",
      "Mann-Whitney Test:\n",
      " MannwhitneyuResult(statistic=1633024.0, pvalue=0.00013287620392759555)\n",
      "\n",
      "____________________\n",
      "\n"
     ]
    }
   ],
   "source": [
    "explore.explore_bivariate_quant(train_melt, 'churn', 'value')"
   ]
  },
  {
   "cell_type": "code",
   "execution_count": 52,
   "metadata": {},
   "outputs": [],
   "source": [
    "# Cleaning train, validate and test. \n",
    "\n",
    "# only need customers with internet service \n",
    "train = train[train.internet_service_type != 'None']\n",
    "validate = validate[validate.internet_service_type != 'None']\n",
    "test = test[test.internet_service_type != 'None']"
   ]
  },
  {
   "cell_type": "code",
   "execution_count": 53,
   "metadata": {},
   "outputs": [
    {
     "data": {
      "text/plain": [
       "((3105, 28), (1324, 28), (1088, 28))"
      ]
     },
     "execution_count": 53,
     "metadata": {},
     "output_type": "execute_result"
    }
   ],
   "source": [
    "train.shape, validate.shape, test.shape"
   ]
  },
  {
   "cell_type": "code",
   "execution_count": 54,
   "metadata": {},
   "outputs": [],
   "source": [
    "# Unecessary information for statistics and modeling\n",
    "\n",
    "dropcols = ['internet_service_type','senior_citizen','partner','dependents','tenure','phone_service','multiple_lines','paperless_billing','monthly_charges','total_charges','contract_type','payment_type','gender_male','one_year_contract','two_year_contract','credit_card_payment','e_check_payment','mailed_check_payment']\n",
    "train = train.drop(columns=dropcols)\n",
    "validate = validate.drop(columns=dropcols)\n",
    "test = test.drop(columns=dropcols)"
   ]
  },
  {
   "cell_type": "code",
   "execution_count": 55,
   "metadata": {},
   "outputs": [
    {
     "data": {
      "text/html": [
       "<div>\n",
       "<style scoped>\n",
       "    .dataframe tbody tr th:only-of-type {\n",
       "        vertical-align: middle;\n",
       "    }\n",
       "\n",
       "    .dataframe tbody tr th {\n",
       "        vertical-align: top;\n",
       "    }\n",
       "\n",
       "    .dataframe thead th {\n",
       "        text-align: right;\n",
       "    }\n",
       "</style>\n",
       "<table border=\"1\" class=\"dataframe\">\n",
       "  <thead>\n",
       "    <tr style=\"text-align: right;\">\n",
       "      <th></th>\n",
       "      <th>online_security</th>\n",
       "      <th>online_backup</th>\n",
       "      <th>device_protection</th>\n",
       "      <th>tech_support</th>\n",
       "      <th>streaming_tv</th>\n",
       "      <th>streaming_movies</th>\n",
       "      <th>churn</th>\n",
       "      <th>dsl_internet</th>\n",
       "      <th>fiber_optic_internet</th>\n",
       "    </tr>\n",
       "    <tr>\n",
       "      <th>customer_id</th>\n",
       "      <th></th>\n",
       "      <th></th>\n",
       "      <th></th>\n",
       "      <th></th>\n",
       "      <th></th>\n",
       "      <th></th>\n",
       "      <th></th>\n",
       "      <th></th>\n",
       "      <th></th>\n",
       "    </tr>\n",
       "  </thead>\n",
       "  <tbody>\n",
       "    <tr>\n",
       "      <th>3420-YJLQT</th>\n",
       "      <td>0</td>\n",
       "      <td>1</td>\n",
       "      <td>0</td>\n",
       "      <td>0</td>\n",
       "      <td>0</td>\n",
       "      <td>0</td>\n",
       "      <td>0</td>\n",
       "      <td>0</td>\n",
       "      <td>1</td>\n",
       "    </tr>\n",
       "    <tr>\n",
       "      <th>6543-JXSOO</th>\n",
       "      <td>1</td>\n",
       "      <td>1</td>\n",
       "      <td>0</td>\n",
       "      <td>1</td>\n",
       "      <td>0</td>\n",
       "      <td>0</td>\n",
       "      <td>0</td>\n",
       "      <td>1</td>\n",
       "      <td>0</td>\n",
       "    </tr>\n",
       "    <tr>\n",
       "      <th>6646-JPPHA</th>\n",
       "      <td>1</td>\n",
       "      <td>1</td>\n",
       "      <td>0</td>\n",
       "      <td>0</td>\n",
       "      <td>0</td>\n",
       "      <td>0</td>\n",
       "      <td>0</td>\n",
       "      <td>0</td>\n",
       "      <td>1</td>\n",
       "    </tr>\n",
       "    <tr>\n",
       "      <th>5759-RCVCB</th>\n",
       "      <td>0</td>\n",
       "      <td>0</td>\n",
       "      <td>0</td>\n",
       "      <td>0</td>\n",
       "      <td>1</td>\n",
       "      <td>0</td>\n",
       "      <td>1</td>\n",
       "      <td>1</td>\n",
       "      <td>0</td>\n",
       "    </tr>\n",
       "    <tr>\n",
       "      <th>5909-ECHUI</th>\n",
       "      <td>0</td>\n",
       "      <td>0</td>\n",
       "      <td>0</td>\n",
       "      <td>0</td>\n",
       "      <td>0</td>\n",
       "      <td>1</td>\n",
       "      <td>1</td>\n",
       "      <td>1</td>\n",
       "      <td>0</td>\n",
       "    </tr>\n",
       "    <tr>\n",
       "      <th>...</th>\n",
       "      <td>...</td>\n",
       "      <td>...</td>\n",
       "      <td>...</td>\n",
       "      <td>...</td>\n",
       "      <td>...</td>\n",
       "      <td>...</td>\n",
       "      <td>...</td>\n",
       "      <td>...</td>\n",
       "      <td>...</td>\n",
       "    </tr>\n",
       "    <tr>\n",
       "      <th>2880-FPNAE</th>\n",
       "      <td>0</td>\n",
       "      <td>0</td>\n",
       "      <td>1</td>\n",
       "      <td>0</td>\n",
       "      <td>0</td>\n",
       "      <td>0</td>\n",
       "      <td>0</td>\n",
       "      <td>0</td>\n",
       "      <td>1</td>\n",
       "    </tr>\n",
       "    <tr>\n",
       "      <th>7579-OOPEC</th>\n",
       "      <td>0</td>\n",
       "      <td>1</td>\n",
       "      <td>0</td>\n",
       "      <td>0</td>\n",
       "      <td>0</td>\n",
       "      <td>0</td>\n",
       "      <td>1</td>\n",
       "      <td>1</td>\n",
       "      <td>0</td>\n",
       "    </tr>\n",
       "    <tr>\n",
       "      <th>9360-AHGNL</th>\n",
       "      <td>1</td>\n",
       "      <td>0</td>\n",
       "      <td>1</td>\n",
       "      <td>1</td>\n",
       "      <td>1</td>\n",
       "      <td>1</td>\n",
       "      <td>1</td>\n",
       "      <td>0</td>\n",
       "      <td>1</td>\n",
       "    </tr>\n",
       "    <tr>\n",
       "      <th>7340-KEFQE</th>\n",
       "      <td>1</td>\n",
       "      <td>0</td>\n",
       "      <td>0</td>\n",
       "      <td>1</td>\n",
       "      <td>0</td>\n",
       "      <td>0</td>\n",
       "      <td>0</td>\n",
       "      <td>1</td>\n",
       "      <td>0</td>\n",
       "    </tr>\n",
       "    <tr>\n",
       "      <th>6338-AVWCY</th>\n",
       "      <td>0</td>\n",
       "      <td>0</td>\n",
       "      <td>1</td>\n",
       "      <td>0</td>\n",
       "      <td>1</td>\n",
       "      <td>0</td>\n",
       "      <td>1</td>\n",
       "      <td>1</td>\n",
       "      <td>0</td>\n",
       "    </tr>\n",
       "  </tbody>\n",
       "</table>\n",
       "<p>1088 rows × 9 columns</p>\n",
       "</div>"
      ],
      "text/plain": [
       "             online_security  online_backup  device_protection  tech_support  \\\n",
       "customer_id                                                                    \n",
       "3420-YJLQT                 0              1                  0             0   \n",
       "6543-JXSOO                 1              1                  0             1   \n",
       "6646-JPPHA                 1              1                  0             0   \n",
       "5759-RCVCB                 0              0                  0             0   \n",
       "5909-ECHUI                 0              0                  0             0   \n",
       "...                      ...            ...                ...           ...   \n",
       "2880-FPNAE                 0              0                  1             0   \n",
       "7579-OOPEC                 0              1                  0             0   \n",
       "9360-AHGNL                 1              0                  1             1   \n",
       "7340-KEFQE                 1              0                  0             1   \n",
       "6338-AVWCY                 0              0                  1             0   \n",
       "\n",
       "             streaming_tv  streaming_movies  churn  dsl_internet  \\\n",
       "customer_id                                                        \n",
       "3420-YJLQT              0                 0      0             0   \n",
       "6543-JXSOO              0                 0      0             1   \n",
       "6646-JPPHA              0                 0      0             0   \n",
       "5759-RCVCB              1                 0      1             1   \n",
       "5909-ECHUI              0                 1      1             1   \n",
       "...                   ...               ...    ...           ...   \n",
       "2880-FPNAE              0                 0      0             0   \n",
       "7579-OOPEC              0                 0      1             1   \n",
       "9360-AHGNL              1                 1      1             0   \n",
       "7340-KEFQE              0                 0      0             1   \n",
       "6338-AVWCY              1                 0      1             1   \n",
       "\n",
       "             fiber_optic_internet  \n",
       "customer_id                        \n",
       "3420-YJLQT                      1  \n",
       "6543-JXSOO                      0  \n",
       "6646-JPPHA                      1  \n",
       "5759-RCVCB                      0  \n",
       "5909-ECHUI                      0  \n",
       "...                           ...  \n",
       "2880-FPNAE                      1  \n",
       "7579-OOPEC                      0  \n",
       "9360-AHGNL                      1  \n",
       "7340-KEFQE                      0  \n",
       "6338-AVWCY                      0  \n",
       "\n",
       "[1088 rows x 9 columns]"
      ]
     },
     "execution_count": 55,
     "metadata": {},
     "output_type": "execute_result"
    }
   ],
   "source": [
    "train.set_index('customer_id')\n",
    "validate.set_index('customer_id')\n",
    "test.set_index('customer_id')"
   ]
  },
  {
   "cell_type": "code",
   "execution_count": 56,
   "metadata": {},
   "outputs": [
    {
     "data": {
      "text/plain": [
       "Index(['online_security', 'online_backup', 'device_protection', 'tech_support',\n",
       "       'streaming_tv', 'streaming_movies'],\n",
       "      dtype='object')"
      ]
     },
     "execution_count": 56,
     "metadata": {},
     "output_type": "execute_result"
    }
   ],
   "source": [
    "train.columns[1:7]"
   ]
  },
  {
   "cell_type": "code",
   "execution_count": 57,
   "metadata": {},
   "outputs": [],
   "source": [
    "# adding the column n_services: the sum of all of the extra internet services: \n",
    "#     \"online_security, online_backup, device_protection, tech_support, streaming_tv, and streaming_movies\"\n",
    "\n",
    "train = train.assign(n_services = train[train.columns[1:7]].sum(axis=1))\n",
    "validate = validate.assign(n_services = validate[validate.columns[1:7]].sum(axis=1))\n",
    "test = test.assign(n_services = test[test.columns[1:7]].sum(axis=1))"
   ]
  },
  {
   "cell_type": "code",
   "execution_count": 58,
   "metadata": {},
   "outputs": [
    {
     "data": {
      "text/plain": [
       "((3105, 11), (1324, 11), (1088, 11))"
      ]
     },
     "execution_count": 58,
     "metadata": {},
     "output_type": "execute_result"
    }
   ],
   "source": [
    "train.shape, validate.shape, test.shape"
   ]
  },
  {
   "cell_type": "code",
   "execution_count": 59,
   "metadata": {},
   "outputs": [
    {
     "data": {
      "text/plain": [
       "['customer_id',\n",
       " 'online_security',\n",
       " 'online_backup',\n",
       " 'device_protection',\n",
       " 'tech_support',\n",
       " 'streaming_tv',\n",
       " 'streaming_movies',\n",
       " 'churn',\n",
       " 'dsl_internet',\n",
       " 'fiber_optic_internet',\n",
       " 'n_services']"
      ]
     },
     "execution_count": 59,
     "metadata": {},
     "output_type": "execute_result"
    }
   ],
   "source": [
    "list(train.columns)"
   ]
  },
  {
   "cell_type": "code",
   "execution_count": 60,
   "metadata": {},
   "outputs": [
    {
     "data": {
      "image/png": "[encoded data removed]",
      "text/plain": [
       "<Figure size 1152x432 with 3 Axes>"
      ]
     },
     "metadata": {
      "needs_background": "light"
     },
     "output_type": "display_data"
    }
   ],
   "source": [
    "features = ['online_security', 'online_backup', 'device_protection']\n",
    "\n",
    "_, ax = plt.subplots(nrows=1, ncols=3, figsize=(16, 6), sharey=True)\n",
    "for i, feature in enumerate(features):\n",
    "    sns.barplot(feature, 'churn', data=train, ax=ax[i])\n",
    "    ax[i].set_xlabel('')\n",
    "    ax[i].set_ylabel('Churn Rate')\n",
    "    ax[i].set_title(feature)\n",
    "    ax[i].axhline(train.churn.mean(), ls='--', color='grey')"
   ]
  },
  {
   "cell_type": "code",
   "execution_count": 61,
   "metadata": {},
   "outputs": [
    {
     "data": {
      "image/png": "[encoded data removed]",
      "text/plain": [
       "<Figure size 1152x432 with 3 Axes>"
      ]
     },
     "metadata": {
      "needs_background": "light"
     },
     "output_type": "display_data"
    }
   ],
   "source": [
    "features = ['tech_support', 'streaming_tv', 'streaming_movies']\n",
    "\n",
    "_, ax = plt.subplots(nrows=1, ncols=3, figsize=(16, 6), sharey=True)\n",
    "for i, feature in enumerate(features):\n",
    "    sns.barplot(feature, 'churn', data=train, ax=ax[i])\n",
    "    ax[i].set_xlabel('')\n",
    "    ax[i].set_ylabel('Churn Rate')\n",
    "    ax[i].set_title(feature)\n",
    "    ax[i].axhline(train.churn.mean(), ls='--', color='grey')"
   ]
  },
  {
   "cell_type": "code",
   "execution_count": 62,
   "metadata": {},
   "outputs": [
    {
     "data": {
      "image/png": "[encoded data removed]",
      "text/plain": [
       "<Figure size 432x288 with 1 Axes>"
      ]
     },
     "metadata": {
      "needs_background": "light"
     },
     "output_type": "display_data"
    }
   ],
   "source": [
    "feature = 'n_services'\n",
    "target = 'churn'\n",
    "sns.barplot(x=feature, y=target, data=train)\n",
    "plt.xlabel('Number of Online Services per Customer with Internet')\n",
    "plt.ylabel('Churn Rate')\n",
    "plt.title(\"Relationship of Churn to Number of Online Services\")\n",
    "\n",
    "plt.show()"
   ]
  },
  {
   "cell_type": "code",
   "execution_count": 63,
   "metadata": {},
   "outputs": [],
   "source": [
    "from sklearn.linear_model import LogisticRegression\n",
    "from sklearn.neighbors import KNeighborsClassifier\n",
    "from sklearn.ensemble import RandomForestClassifier\n",
    "from sklearn.tree import DecisionTreeClassifier"
   ]
  },
  {
   "cell_type": "markdown",
   "metadata": {},
   "source": [
    "## Baseline"
   ]
  },
  {
   "cell_type": "code",
   "execution_count": 64,
   "metadata": {},
   "outputs": [
    {
     "data": {
      "text/plain": [
       "0    2122\n",
       "1     983\n",
       "Name: churn, dtype: int64"
      ]
     },
     "execution_count": 64,
     "metadata": {},
     "output_type": "execute_result"
    }
   ],
   "source": [
    "train.churn.value_counts()"
   ]
  },
  {
   "cell_type": "code",
   "execution_count": 65,
   "metadata": {},
   "outputs": [
    {
     "name": "stdout",
     "output_type": "stream",
     "text": [
      "My baseline prediction is survived = 0\n",
      "My baseline accuracy is: 68.34%\n"
     ]
    }
   ],
   "source": [
    "train[\"most_frequent\"] = 0\n",
    "baseline_accuracy = (train.churn == train.most_frequent).mean()\n",
    "print(f'My baseline prediction is survived = 0')\n",
    "print(f'My baseline accuracy is: {baseline_accuracy:.2%}')"
   ]
  },
  {
   "cell_type": "markdown",
   "metadata": {},
   "source": [
    "## Logistic Regression"
   ]
  },
  {
   "cell_type": "code",
   "execution_count": 66,
   "metadata": {},
   "outputs": [],
   "source": [
    "X_train = train.drop(columns=['churn','most_frequent','customer_id'])\n",
    "y_train = train.churn\n",
    "\n",
    "X_validate = validate.drop(columns=['churn','customer_id'])\n",
    "y_validate = validate.churn\n",
    "\n",
    "X_test = test.drop(columns=['churn','customer_id'])\n",
    "y_test = test.churn"
   ]
  },
  {
   "cell_type": "code",
   "execution_count": 67,
   "metadata": {},
   "outputs": [],
   "source": [
    "logit = LogisticRegression(penalty='l2', C=1, random_state=42, solver='lbfgs')"
   ]
  },
  {
   "cell_type": "code",
   "execution_count": 68,
   "metadata": {},
   "outputs": [
    {
     "data": {
      "text/plain": [
       "LogisticRegression(C=1, random_state=42)"
      ]
     },
     "execution_count": 68,
     "metadata": {},
     "output_type": "execute_result"
    }
   ],
   "source": [
    "logit.fit(X_train, y_train)"
   ]
  },
  {
   "cell_type": "code",
   "execution_count": 69,
   "metadata": {},
   "outputs": [
    {
     "name": "stdout",
     "output_type": "stream",
     "text": [
      "Coefficient: \n",
      " [[-0.55513499 -0.08301648 -0.1180028  -0.50574664  0.47706331  0.38594441\n",
      "  -0.42691481  0.45636225 -0.39889319]]\n",
      "Intercept: \n",
      " [0.03126703]\n"
     ]
    }
   ],
   "source": [
    "print('Coefficient: \\n', logit.coef_)\n",
    "print('Intercept: \\n', logit.intercept_)"
   ]
  },
  {
   "cell_type": "code",
   "execution_count": 70,
   "metadata": {},
   "outputs": [],
   "source": [
    "y_pred = logit.predict(X_train)"
   ]
  },
  {
   "cell_type": "code",
   "execution_count": 71,
   "metadata": {},
   "outputs": [],
   "source": [
    "y_pred_proba = logit.predict_proba(X_train)"
   ]
  },
  {
   "cell_type": "code",
   "execution_count": 72,
   "metadata": {},
   "outputs": [
    {
     "name": "stdout",
     "output_type": "stream",
     "text": [
      "The features used are : ['online_security', 'online_backup', 'device_protection', 'tech_support', 'streaming_tv', 'streaming_movies', 'dsl_internet', 'fiber_optic_internet', 'n_services']\n",
      "\n",
      "\n",
      "Accuracy of Logistic Regression classifier on training set: 0.72\n",
      "\n",
      "The confusion matrix:\n",
      " [[1813  309]\n",
      " [ 546  437]]\n",
      "\n",
      "Classificaiton Report:\n",
      "               precision    recall  f1-score   support\n",
      "\n",
      "           0       0.77      0.85      0.81      2122\n",
      "           1       0.59      0.44      0.51       983\n",
      "\n",
      "    accuracy                           0.72      3105\n",
      "   macro avg       0.68      0.65      0.66      3105\n",
      "weighted avg       0.71      0.72      0.71      3105\n",
      "\n"
     ]
    }
   ],
   "source": [
    "print(f'The features used are : {list(X_train.columns)}\\n\\n')\n",
    "print('Accuracy of Logistic Regression classifier on training set: {:.2f}\\n'\n",
    "     .format(logit.score(X_train, y_train)))\n",
    "print(f'The confusion matrix:\\n {confusion_matrix(y_train, y_pred)}\\n')\n",
    "print(f'Classificaiton Report:\\n {classification_report(y_train, y_pred)}')"
   ]
  },
  {
   "cell_type": "code",
   "execution_count": 74,
   "metadata": {},
   "outputs": [
    {
     "name": "stdout",
     "output_type": "stream",
     "text": [
      "Accuracy of on training set: 0.72\n",
      "Accuracy out-of-sample set: 0.73\n",
      "Accuracy of on training set: 0.72\n"
     ]
    }
   ],
   "source": [
    "print('Accuracy of on training set: {:.2f}'\n",
    "     .format(logit.score(X_train, y_train)))\n",
    "print('Accuracy out-of-sample set: {:.2f}'.format(logit.score(X_validate, y_validate)))\n",
    "print('Accuracy of on training set: {:.2f}'\n",
    "     .format(logit.score(X_test, y_test)))"
   ]
  },
  {
   "cell_type": "code",
   "execution_count": null,
   "metadata": {},
   "outputs": [],
   "source": []
  }
 ],
 "metadata": {
  "kernelspec": {
   "display_name": "Python 3",
   "language": "python",
   "name": "python3"
  },
  "language_info": {
   "codemirror_mode": {
    "name": "ipython",
    "version": 3
   },
   "file_extension": ".py",
   "mimetype": "text/x-python",
   "name": "python",
   "nbconvert_exporter": "python",
   "pygments_lexer": "ipython3",
   "version": "3.8.5"
  }
 },
 "nbformat": 4,
 "nbformat_minor": 4
}
