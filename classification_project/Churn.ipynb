{
 "cells": [
  {
   "cell_type": "markdown",
   "metadata": {},
   "source": [
    "# Imports"
   ]
  },
  {
   "cell_type": "code",
   "execution_count": 1,
   "metadata": {},
   "outputs": [],
   "source": [
    "# ignore warnings\n",
    "import warnings\n",
    "warnings.filterwarnings(\"ignore\")\n",
    "\n",
    "# Data getting, cleaning, and exploring\n",
    "from acquire import get_connection, new_telco_data, get_telco_data\n",
    "from prepare import clean_telco, impute_mode, train_validate_test_split,impute_mode, prep_telco_data\n",
    "import explore\n",
    "\n",
    "# Python without these is hard\n",
    "import pandas as pd\n",
    "import numpy as np\n",
    "from pydataset import data\n",
    "from scipy import stats\n",
    "\n",
    "# Machine Learning\n",
    "from sklearn.model_selection import train_test_split\n",
    "from sklearn.tree import DecisionTreeClassifier\n",
    "from sklearn.tree import export_graphviz\n",
    "from sklearn.neighbors import KNeighborsClassifier\n",
    "from sklearn.metrics import classification_report\n",
    "from sklearn.metrics import confusion_matrix\n",
    "from sklearn.ensemble import RandomForestClassifier\n",
    "\n",
    "# Visualization\n",
    "import matplotlib.pyplot as plt\n",
    "%matplotlib inline\n",
    "import seaborn as sns\n",
    "import graphviz\n",
    "from graphviz import Graph"
   ]
  },
  {
   "cell_type": "markdown",
   "metadata": {},
   "source": [
    "## Get and clean data"
   ]
  },
  {
   "cell_type": "code",
   "execution_count": 2,
   "metadata": {},
   "outputs": [],
   "source": [
    "# clean_telco, gets and preps the dataframe from SQL\n",
    "df = clean_telco()"
   ]
  },
  {
   "cell_type": "markdown",
   "metadata": {},
   "source": [
    "## Make sure it is correct"
   ]
  },
  {
   "cell_type": "code",
   "execution_count": 3,
   "metadata": {},
   "outputs": [
    {
     "data": {
      "text/html": [
       "<div>\n",
       "<style scoped>\n",
       "    .dataframe tbody tr th:only-of-type {\n",
       "        vertical-align: middle;\n",
       "    }\n",
       "\n",
       "    .dataframe tbody tr th {\n",
       "        vertical-align: top;\n",
       "    }\n",
       "\n",
       "    .dataframe thead th {\n",
       "        text-align: right;\n",
       "    }\n",
       "</style>\n",
       "<table border=\"1\" class=\"dataframe\">\n",
       "  <thead>\n",
       "    <tr style=\"text-align: right;\">\n",
       "      <th></th>\n",
       "      <th>customer_id</th>\n",
       "      <th>senior_citizen</th>\n",
       "      <th>partner</th>\n",
       "      <th>dependents</th>\n",
       "      <th>tenure</th>\n",
       "      <th>phone_service</th>\n",
       "      <th>multiple_lines</th>\n",
       "      <th>online_security</th>\n",
       "      <th>online_backup</th>\n",
       "      <th>device_protection</th>\n",
       "      <th>...</th>\n",
       "      <th>internet_service_type</th>\n",
       "      <th>payment_type</th>\n",
       "      <th>gender_male</th>\n",
       "      <th>one_year_contract</th>\n",
       "      <th>two_year_contract</th>\n",
       "      <th>credit_card_payment</th>\n",
       "      <th>e_check_payment</th>\n",
       "      <th>mailed_check_payment</th>\n",
       "      <th>dsl_internet</th>\n",
       "      <th>fiber_optic_internet</th>\n",
       "    </tr>\n",
       "  </thead>\n",
       "  <tbody>\n",
       "    <tr>\n",
       "      <th>0</th>\n",
       "      <td>0003-MKNFE</td>\n",
       "      <td>0</td>\n",
       "      <td>0</td>\n",
       "      <td>0</td>\n",
       "      <td>9</td>\n",
       "      <td>1</td>\n",
       "      <td>1</td>\n",
       "      <td>0</td>\n",
       "      <td>0</td>\n",
       "      <td>0</td>\n",
       "      <td>...</td>\n",
       "      <td>DSL</td>\n",
       "      <td>Mailed check</td>\n",
       "      <td>1</td>\n",
       "      <td>0</td>\n",
       "      <td>0</td>\n",
       "      <td>0</td>\n",
       "      <td>0</td>\n",
       "      <td>1</td>\n",
       "      <td>1</td>\n",
       "      <td>0</td>\n",
       "    </tr>\n",
       "    <tr>\n",
       "      <th>1</th>\n",
       "      <td>0013-MHZWF</td>\n",
       "      <td>0</td>\n",
       "      <td>0</td>\n",
       "      <td>1</td>\n",
       "      <td>9</td>\n",
       "      <td>1</td>\n",
       "      <td>0</td>\n",
       "      <td>0</td>\n",
       "      <td>0</td>\n",
       "      <td>0</td>\n",
       "      <td>...</td>\n",
       "      <td>DSL</td>\n",
       "      <td>Credit card (automatic)</td>\n",
       "      <td>0</td>\n",
       "      <td>0</td>\n",
       "      <td>0</td>\n",
       "      <td>1</td>\n",
       "      <td>0</td>\n",
       "      <td>0</td>\n",
       "      <td>1</td>\n",
       "      <td>0</td>\n",
       "    </tr>\n",
       "  </tbody>\n",
       "</table>\n",
       "<p>2 rows × 28 columns</p>\n",
       "</div>"
      ],
      "text/plain": [
       "  customer_id  senior_citizen  partner  dependents  tenure  phone_service  \\\n",
       "0  0003-MKNFE               0        0           0       9              1   \n",
       "1  0013-MHZWF               0        0           1       9              1   \n",
       "\n",
       "   multiple_lines  online_security  online_backup  device_protection  ...  \\\n",
       "0               1                0              0                  0  ...   \n",
       "1               0                0              0                  0  ...   \n",
       "\n",
       "   internet_service_type             payment_type  gender_male  \\\n",
       "0                    DSL             Mailed check            1   \n",
       "1                    DSL  Credit card (automatic)            0   \n",
       "\n",
       "   one_year_contract  two_year_contract  credit_card_payment  e_check_payment  \\\n",
       "0                  0                  0                    0                0   \n",
       "1                  0                  0                    1                0   \n",
       "\n",
       "  mailed_check_payment dsl_internet fiber_optic_internet  \n",
       "0                    1            1                    0  \n",
       "1                    0            1                    0  \n",
       "\n",
       "[2 rows x 28 columns]"
      ]
     },
     "execution_count": 3,
     "metadata": {},
     "output_type": "execute_result"
    }
   ],
   "source": [
    "# verify clean_telco worked properly\n",
    "df.head(2)"
   ]
  },
  {
   "cell_type": "code",
   "execution_count": 4,
   "metadata": {},
   "outputs": [
    {
     "data": {
      "text/plain": [
       "(7043, 28)"
      ]
     },
     "execution_count": 4,
     "metadata": {},
     "output_type": "execute_result"
    }
   ],
   "source": [
    "df.shape"
   ]
  },
  {
   "cell_type": "code",
   "execution_count": 5,
   "metadata": {},
   "outputs": [
    {
     "name": "stdout",
     "output_type": "stream",
     "text": [
      "<class 'pandas.core.frame.DataFrame'>\n",
      "RangeIndex: 7043 entries, 0 to 7042\n",
      "Data columns (total 28 columns):\n",
      " #   Column                 Non-Null Count  Dtype  \n",
      "---  ------                 --------------  -----  \n",
      " 0   customer_id            7043 non-null   object \n",
      " 1   senior_citizen         7043 non-null   int64  \n",
      " 2   partner                7043 non-null   int64  \n",
      " 3   dependents             7043 non-null   int64  \n",
      " 4   tenure                 7043 non-null   int64  \n",
      " 5   phone_service          7043 non-null   int64  \n",
      " 6   multiple_lines         7043 non-null   int64  \n",
      " 7   online_security        7043 non-null   int64  \n",
      " 8   online_backup          7043 non-null   int64  \n",
      " 9   device_protection      7043 non-null   int64  \n",
      " 10  tech_support           7043 non-null   int64  \n",
      " 11  streaming_tv           7043 non-null   int64  \n",
      " 12  streaming_movies       7043 non-null   int64  \n",
      " 13  paperless_billing      7043 non-null   int64  \n",
      " 14  monthly_charges        7043 non-null   float64\n",
      " 15  total_charges          7043 non-null   float64\n",
      " 16  churn                  7043 non-null   int64  \n",
      " 17  contract_type          7043 non-null   object \n",
      " 18  internet_service_type  7043 non-null   object \n",
      " 19  payment_type           7043 non-null   object \n",
      " 20  gender_male            7043 non-null   uint8  \n",
      " 21  one_year_contract      7043 non-null   uint8  \n",
      " 22  two_year_contract      7043 non-null   uint8  \n",
      " 23  credit_card_payment    7043 non-null   uint8  \n",
      " 24  e_check_payment        7043 non-null   uint8  \n",
      " 25  mailed_check_payment   7043 non-null   uint8  \n",
      " 26  dsl_internet           7043 non-null   uint8  \n",
      " 27  fiber_optic_internet   7043 non-null   uint8  \n",
      "dtypes: float64(2), int64(14), object(4), uint8(8)\n",
      "memory usage: 1.1+ MB\n"
     ]
    }
   ],
   "source": [
    "df.info()"
   ]
  },
  {
   "cell_type": "markdown",
   "metadata": {},
   "source": [
    "## Establish categorical, quantitative, target data"
   ]
  },
  {
   "cell_type": "code",
   "execution_count": 6,
   "metadata": {},
   "outputs": [],
   "source": [
    "quant_vars = ['tenure','monthly_charges','total_charges']\n",
    "cat_vars = list((df.columns).drop(quant_vars))\n",
    "target = 'churn'"
   ]
  },
  {
   "cell_type": "markdown",
   "metadata": {},
   "source": [
    "## Split the data"
   ]
  },
  {
   "cell_type": "code",
   "execution_count": 6,
   "metadata": {},
   "outputs": [],
   "source": [
    "train, validate, test = train_validate_test_split(df)"
   ]
  },
  {
   "cell_type": "code",
   "execution_count": 7,
   "metadata": {},
   "outputs": [
    {
     "data": {
      "text/plain": [
       "((3943, 28), (1691, 28), (1409, 28))"
      ]
     },
     "execution_count": 7,
     "metadata": {},
     "output_type": "execute_result"
    }
   ],
   "source": [
    "# make sure all split data contains decreasing rows and equal columns\n",
    "\n",
    "train.shape, validate.shape, test.shape"
   ]
  },
  {
   "cell_type": "markdown",
   "metadata": {},
   "source": [
    "## Data Exploration"
   ]
  },
  {
   "cell_type": "code",
   "execution_count": 8,
   "metadata": {},
   "outputs": [],
   "source": [
    "# explore.explore_univariate(train, cat_vars, quant_vars)"
   ]
  },
  {
   "cell_type": "markdown",
   "metadata": {},
   "source": [
    "### Takeaways from univariate:\n",
    "#### Observations:\n",
    "- There are significantly more non-senior citizens than senior citizens\n",
    "- There are a lot more customers with dependents\n",
    "- Significantly more customers with phone service than without\n",
    "- Less have online security, online backup, device protection, and tech support\n",
    "- A lot more people churn than stay\n",
    "- More customers are Month-to-month than in contracts\n",
    "- Electronis check is the most popular payment method\n",
    "\n",
    "#### Questions:\n",
    "- Customers with phone service that have multiple lines?\n",
    "- Customers with internet that have online services (i.e. online_security, online_backup, device_protection, tech_support, streaming_tv, streaming_movies)"
   ]
  },
  {
   "cell_type": "code",
   "execution_count": 9,
   "metadata": {},
   "outputs": [],
   "source": [
    "cat_vars = ['online_security','online_backup','device_protection','tech_support','streaming_tv','streaming_movies']"
   ]
  },
  {
   "cell_type": "code",
   "execution_count": 10,
   "metadata": {},
   "outputs": [],
   "source": [
    "# explore.explore_bivariate(train, 'churn', cat_vars, quant_vars)"
   ]
  },
  {
   "cell_type": "markdown",
   "metadata": {},
   "source": [
    "### Bivariate:\n",
    "#### Observations:\n",
    "- REALLY LOW p-values\n",
    "    - senior, partner, dependents, online_security, tech_support, paperless_billing, ***month-to_month***, fiber_optic_internet, one_year, two_year\n",
    "- Real low p-values\n",
    "    - online_backup, device_protection, streaming_tv, streaming_movies, \n",
    "- barely passes 95% confidence\n",
    "    - multiple lines\n",
    "- Not low\n",
    "    - gender, phone_service\n",
    "- Vast majority of churn happens before 30 months\n",
    "- higher monthly bill increases churn\n",
    "\n",
    "#### Questions:\n",
    "- Do people with all online services churn more than customers without all of the online services?\n",
    "- Are the really low p-values a good starting point?"
   ]
  },
  {
   "cell_type": "markdown",
   "metadata": {},
   "source": [
    "# Does the amount of online services affect churn rates of our customers with internet service?\n",
    "## Online services are:\n",
    "   - online security\n",
    "   - online backup\n",
    "   - device protection\n",
    "   - tech supprt\n",
    "   - streaming tv\n",
    "   - streaming movies"
   ]
  },
  {
   "cell_type": "code",
   "execution_count": 11,
   "metadata": {},
   "outputs": [],
   "source": [
    "# Cleaning train, validate and test. \n",
    "\n",
    "# only need customers with internet service \n",
    "train = train[train.internet_service_type != 'None']\n",
    "validate = validate[validate.internet_service_type != 'None']\n",
    "test = test[test.internet_service_type != 'None']"
   ]
  },
  {
   "cell_type": "code",
   "execution_count": 16,
   "metadata": {},
   "outputs": [
    {
     "data": {
      "text/plain": [
       "(3105, 9)"
      ]
     },
     "execution_count": 16,
     "metadata": {},
     "output_type": "execute_result"
    }
   ],
   "source": [
    "train.shape"
   ]
  },
  {
   "cell_type": "code",
   "execution_count": 15,
   "metadata": {},
   "outputs": [],
   "source": [
    "# Unecessary information for statistics and modeling\n",
    "\n",
    "dropcols = ['customer_id','internet_service_type','senior_citizen','partner','dependents','tenure','phone_service','multiple_lines','paperless_billing','monthly_charges','total_charges','contract_type','payment_type','gender_male','one_year_contract','two_year_contract','credit_card_payment','e_check_payment','mailed_check_payment']\n",
    "train = train.drop(columns=dropcols)\n",
    "validate = validate.drop(columns=dropcols)\n",
    "test = test.drop(columns=dropcols)"
   ]
  },
  {
   "cell_type": "code",
   "execution_count": 17,
   "metadata": {},
   "outputs": [
    {
     "data": {
      "text/plain": [
       "Index(['online_security', 'online_backup', 'device_protection', 'tech_support',\n",
       "       'streaming_tv', 'streaming_movies', 'churn', 'dsl_internet',\n",
       "       'fiber_optic_internet'],\n",
       "      dtype='object')"
      ]
     },
     "execution_count": 17,
     "metadata": {},
     "output_type": "execute_result"
    }
   ],
   "source": [
    "train.columns"
   ]
  },
  {
   "cell_type": "code",
   "execution_count": 18,
   "metadata": {},
   "outputs": [],
   "source": [
    "# adding the column n_services: the sum of all of the extra internet services: \n",
    "#     \"online_security, online_backup, device_protection, tech_support, streaming_tv, and streaming_movies\"\n",
    "\n",
    "train = train.assign(n_services = train[train.columns[:6]].sum(axis=1))\n",
    "validate = validate.assign(n_services = validate[validate.columns[:6]].sum(axis=1))\n",
    "test = test.assign(n_services = test[test.columns[:6]].sum(axis=1))"
   ]
  },
  {
   "cell_type": "code",
   "execution_count": 19,
   "metadata": {},
   "outputs": [
    {
     "data": {
      "text/plain": [
       "((3105, 10), (1324, 10), (1088, 10))"
      ]
     },
     "execution_count": 19,
     "metadata": {},
     "output_type": "execute_result"
    }
   ],
   "source": [
    "train.shape, validate.shape, test.shape"
   ]
  },
  {
   "cell_type": "code",
   "execution_count": 27,
   "metadata": {},
   "outputs": [
    {
     "name": "stdout",
     "output_type": "stream",
     "text": [
      "n_services \n",
      "_____________________\n",
      "\n",
      "         chi2       p-value  degrees of freedom\n",
      "0  242.747186  1.453760e-49                   6\n",
      "\n",
      "observed:\n",
      " churn          0    1   All\n",
      "n_services                 \n",
      "0            198  217   415\n",
      "1            301  229   530\n",
      "2            383  209   592\n",
      "3            448  175   623\n",
      "4            375  104   479\n",
      "5            272   41   313\n",
      "6            145    8   153\n",
      "All         2122  983  3105\n",
      "\n",
      "expected:\n",
      "             0           1\n",
      "0  283.616747  131.383253\n",
      "1  362.209340  167.790660\n",
      "2  404.580998  187.419002\n",
      "3  425.766828  197.233172\n",
      "4  327.355233  151.644767\n",
      "5  213.908535   99.091465\n",
      "6  104.562319   48.437681\n"
     ]
    },
    {
     "data": {
      "image/png": "[encoded data removed]",
      "text/plain": [
       "<Figure size 144x144 with 1 Axes>"
      ]
     },
     "metadata": {
      "needs_background": "light"
     },
     "output_type": "display_data"
    },
    {
     "name": "stdout",
     "output_type": "stream",
     "text": [
      "\n",
      "_____________________\n",
      "\n"
     ]
    }
   ],
   "source": [
    "explore.explore_bivariate_categorical(train, 'churn', 'n_services')"
   ]
  },
  {
   "cell_type": "markdown",
   "metadata": {},
   "source": [
    "# Statistical Analysis"
   ]
  },
  {
   "cell_type": "markdown",
   "metadata": {},
   "source": [
    "\n",
    "## χ<sup>2</sup> test\n",
    " - Testing for independence between 2 categorical values.\n",
    "     - will use confidence level of 0.95 and alpha of 0.05\n",
    " - Churn is categorical (i.e. can be 1 or 0)\n",
    " - n_services is categorical (i.e. can be integers from 0-6)\n"
   ]
  },
  {
   "cell_type": "code",
   "execution_count": 28,
   "metadata": {},
   "outputs": [],
   "source": [
    "# Χ^2 hypotheses:\n",
    "\n",
    "h0 = 'Churn is independent of the number of online services per internet customer'\n",
    "h1 = 'We assume that there is an association between churn and the number of online services'"
   ]
  },
  {
   "cell_type": "code",
   "execution_count": 29,
   "metadata": {},
   "outputs": [],
   "source": [
    "confidence_level = .95\n",
    "alpha = 1 - confidence_level"
   ]
  },
  {
   "cell_type": "code",
   "execution_count": 30,
   "metadata": {},
   "outputs": [
    {
     "data": {
      "text/html": [
       "<div>\n",
       "<style scoped>\n",
       "    .dataframe tbody tr th:only-of-type {\n",
       "        vertical-align: middle;\n",
       "    }\n",
       "\n",
       "    .dataframe tbody tr th {\n",
       "        vertical-align: top;\n",
       "    }\n",
       "\n",
       "    .dataframe thead th {\n",
       "        text-align: right;\n",
       "    }\n",
       "</style>\n",
       "<table border=\"1\" class=\"dataframe\">\n",
       "  <thead>\n",
       "    <tr style=\"text-align: right;\">\n",
       "      <th>n_services</th>\n",
       "      <th>0</th>\n",
       "      <th>1</th>\n",
       "      <th>2</th>\n",
       "      <th>3</th>\n",
       "      <th>4</th>\n",
       "      <th>5</th>\n",
       "      <th>6</th>\n",
       "    </tr>\n",
       "    <tr>\n",
       "      <th>churn</th>\n",
       "      <th></th>\n",
       "      <th></th>\n",
       "      <th></th>\n",
       "      <th></th>\n",
       "      <th></th>\n",
       "      <th></th>\n",
       "      <th></th>\n",
       "    </tr>\n",
       "  </thead>\n",
       "  <tbody>\n",
       "    <tr>\n",
       "      <th>0</th>\n",
       "      <td>198</td>\n",
       "      <td>301</td>\n",
       "      <td>383</td>\n",
       "      <td>448</td>\n",
       "      <td>375</td>\n",
       "      <td>272</td>\n",
       "      <td>145</td>\n",
       "    </tr>\n",
       "    <tr>\n",
       "      <th>1</th>\n",
       "      <td>217</td>\n",
       "      <td>229</td>\n",
       "      <td>209</td>\n",
       "      <td>175</td>\n",
       "      <td>104</td>\n",
       "      <td>41</td>\n",
       "      <td>8</td>\n",
       "    </tr>\n",
       "  </tbody>\n",
       "</table>\n",
       "</div>"
      ],
      "text/plain": [
       "n_services    0    1    2    3    4    5    6\n",
       "churn                                        \n",
       "0           198  301  383  448  375  272  145\n",
       "1           217  229  209  175  104   41    8"
      ]
     },
     "execution_count": 30,
     "metadata": {},
     "output_type": "execute_result"
    }
   ],
   "source": [
    "observed = pd.crosstab(train.churn, train.n_services)\n",
    "observed"
   ]
  },
  {
   "cell_type": "code",
   "execution_count": 31,
   "metadata": {},
   "outputs": [
    {
     "data": {
      "text/plain": [
       "(242.74718634895132,\n",
       " 1.4537598284914964e-49,\n",
       " 6,\n",
       " array([[283.61674718, 362.20933977, 404.58099839, 425.7668277 ,\n",
       "         327.35523349, 213.90853462, 104.56231884],\n",
       "        [131.38325282, 167.79066023, 187.41900161, 197.2331723 ,\n",
       "         151.64476651,  99.09146538,  48.43768116]]))"
      ]
     },
     "execution_count": 31,
     "metadata": {},
     "output_type": "execute_result"
    }
   ],
   "source": [
    "chi2, p, degf, expected = stats.chi2_contingency(observed)\n",
    "chi2, p, degf, expected"
   ]
  },
  {
   "cell_type": "code",
   "execution_count": 32,
   "metadata": {},
   "outputs": [
    {
     "name": "stdout",
     "output_type": "stream",
     "text": [
      "We reject the null hypothesis and move forward w/ the alternative hypothesis: \n",
      "We assume that there is an association between churn and the number of online services\n"
     ]
    }
   ],
   "source": [
    "if p < alpha:\n",
    "    print(f\"We reject the null hypothesis and move forward w/ the alternative hypothesis: \\n{h1}\")\n",
    "else:\n",
    "    print(f\"We fail to reject the null hypothesis: {h0}\")"
   ]
  },
  {
   "cell_type": "markdown",
   "metadata": {},
   "source": [
    "## T-test\n",
    "    - I am running a T-test to verify that there is a difference between having no additional online services vs. having any extra online service\n",
    "    - will continue to use the confidence level of 0.95 and alpha of 0.05"
   ]
  },
  {
   "cell_type": "code",
   "execution_count": 33,
   "metadata": {},
   "outputs": [],
   "source": [
    "# T-test hypotheses \n",
    "\n",
    "h0 = 'There is no difference between in the means of customers without any additional online services and  customers with any number of online services.'\n",
    "h1 = 'There is a difference in the means of customers with online services and those without online services.'"
   ]
  },
  {
   "cell_type": "code",
   "execution_count": 34,
   "metadata": {},
   "outputs": [],
   "source": [
    "# customers without any additional online services\n",
    "x1 = train[train.n_services == 0].mean()\n",
    "\n",
    "# customers with any number of online services\n",
    "x2 = train[train.n_services != 0].mean()"
   ]
  },
  {
   "cell_type": "code",
   "execution_count": 35,
   "metadata": {},
   "outputs": [
    {
     "data": {
      "text/plain": [
       "(-2.1670563939302734, 0.043890077959799295)"
      ]
     },
     "execution_count": 35,
     "metadata": {},
     "output_type": "execute_result"
    }
   ],
   "source": [
    "t,p = stats.ttest_ind(x1, x2)\n",
    "t, p"
   ]
  },
  {
   "cell_type": "code",
   "execution_count": 36,
   "metadata": {},
   "outputs": [
    {
     "name": "stdout",
     "output_type": "stream",
     "text": [
      "We reject the null hypothesis and move forward w/ the alternative hypothesis: \n",
      "There is a difference in the means of customers with online services and those without online services.\n"
     ]
    }
   ],
   "source": [
    "if p < alpha:\n",
    "    print(f\"We reject the null hypothesis and move forward w/ the alternative hypothesis: \\n{h1}\")\n",
    "else:\n",
    "    print(f\"We fail to reject the null hypothesis: {h0}\")"
   ]
  },
  {
   "cell_type": "markdown",
   "metadata": {},
   "source": [
    "# Modeling"
   ]
  },
  {
   "cell_type": "code",
   "execution_count": 37,
   "metadata": {},
   "outputs": [],
   "source": [
    "from sklearn.linear_model import LogisticRegression\n",
    "from sklearn.neighbors import KNeighborsClassifier\n",
    "from sklearn.ensemble import RandomForestClassifier\n",
    "from sklearn.tree import DecisionTreeClassifier"
   ]
  },
  {
   "cell_type": "markdown",
   "metadata": {},
   "source": [
    "### Baseline"
   ]
  },
  {
   "cell_type": "code",
   "execution_count": 74,
   "metadata": {},
   "outputs": [
    {
     "data": {
      "text/plain": [
       "0    2122\n",
       "1     983\n",
       "Name: churn, dtype: int64"
      ]
     },
     "execution_count": 74,
     "metadata": {},
     "output_type": "execute_result"
    }
   ],
   "source": [
    "train.churn.value_counts()"
   ]
  },
  {
   "cell_type": "code",
   "execution_count": 75,
   "metadata": {},
   "outputs": [
    {
     "name": "stdout",
     "output_type": "stream",
     "text": [
      "My baseline prediction is survived = 0\n",
      "My baseline accuracy is: 68.34%\n"
     ]
    }
   ],
   "source": [
    "train[\"most_frequent\"] = 0\n",
    "baseline_accuracy = (train.churn == train.most_frequent).mean()\n",
    "print(f'My baseline prediction is survived = 0')\n",
    "print(f'My baseline accuracy is: {baseline_accuracy:.2%}')"
   ]
  },
  {
   "cell_type": "markdown",
   "metadata": {},
   "source": [
    "## Logistic Regression"
   ]
  },
  {
   "cell_type": "code",
   "execution_count": 136,
   "metadata": {},
   "outputs": [],
   "source": [
    "X_train = train.drop(columns=['churn','dsl_internet', 'fiber_optic_internet'])\n",
    "y_train = train.churn\n",
    "\n",
    "X_validate = validate.drop(columns=['churn','dsl_internet', 'fiber_optic_internet'])\n",
    "y_validate = validate.churn\n",
    "\n",
    "X_test = test.drop(columns=['churn','dsl_internet', 'fiber_optic_internet'])\n",
    "y_test = test.churn"
   ]
  },
  {
   "cell_type": "code",
   "execution_count": 155,
   "metadata": {},
   "outputs": [],
   "source": [
    "logit = LogisticRegression(penalty='l2', C=1, random_state=42, solver='lbfgs')"
   ]
  },
  {
   "cell_type": "code",
   "execution_count": 156,
   "metadata": {},
   "outputs": [
    {
     "data": {
      "text/plain": [
       "LogisticRegression(C=1, random_state=42)"
      ]
     },
     "execution_count": 156,
     "metadata": {},
     "output_type": "execute_result"
    }
   ],
   "source": [
    "logit.fit(X_train, y_train)"
   ]
  },
  {
   "cell_type": "code",
   "execution_count": 157,
   "metadata": {},
   "outputs": [
    {
     "name": "stdout",
     "output_type": "stream",
     "text": [
      "Coefficient: \n",
      " [[-0.68592399 -0.06325662 -0.09434156 -0.66258692  0.60265167  0.50300502\n",
      "  -0.4004524   0.        ]]\n",
      "Intercept: \n",
      " [0.10459026]\n"
     ]
    }
   ],
   "source": [
    "print('Coefficient: \\n', logit.coef_)\n",
    "print('Intercept: \\n', logit.intercept_)"
   ]
  },
  {
   "cell_type": "code",
   "execution_count": 158,
   "metadata": {},
   "outputs": [],
   "source": [
    "y_pred = logit.predict(X_train)"
   ]
  },
  {
   "cell_type": "code",
   "execution_count": 159,
   "metadata": {},
   "outputs": [],
   "source": [
    "y_pred_proba = logit.predict_proba(X_train)"
   ]
  },
  {
   "cell_type": "code",
   "execution_count": 160,
   "metadata": {},
   "outputs": [
    {
     "name": "stdout",
     "output_type": "stream",
     "text": [
      "The features used are : ['online_security', 'online_backup', 'device_protection', 'tech_support', 'streaming_tv', 'streaming_movies', 'n_services', 'most_frequent']\n",
      "\n",
      "\n",
      "Accuracy of Logistic Regression classifier on training set: 0.71\n",
      "\n",
      "The confusion matrix:\n",
      " [[1809  313]\n",
      " [ 584  399]]\n",
      "\n",
      "Classificaiton Report:\n",
      "               precision    recall  f1-score   support\n",
      "\n",
      "           0       0.76      0.85      0.80      2122\n",
      "           1       0.56      0.41      0.47       983\n",
      "\n",
      "    accuracy                           0.71      3105\n",
      "   macro avg       0.66      0.63      0.64      3105\n",
      "weighted avg       0.69      0.71      0.70      3105\n",
      "\n"
     ]
    }
   ],
   "source": [
    "print(f'The features used are : {list(X_train.columns)}\\n\\n')\n",
    "print('Accuracy of Logistic Regression classifier on training set: {:.2f}\\n'\n",
    "     .format(logit.score(X_train, y_train)))\n",
    "print(f'The confusion matrix:\\n {confusion_matrix(y_train, y_pred)}\\n')\n",
    "print(f'Classificaiton Report:\\n {classification_report(y_train, y_pred)}')"
   ]
  },
  {
   "cell_type": "code",
   "execution_count": 161,
   "metadata": {},
   "outputs": [
    {
     "name": "stdout",
     "output_type": "stream",
     "text": [
      "Accuracy of on training set: 0.71\n",
      "Accuracy out-of-sample set: 0.71\n"
     ]
    }
   ],
   "source": [
    "print('Accuracy of on training set: {:.2f}'\n",
    "     .format(logit.score(X_train, y_train)))\n",
    "print('Accuracy out-of-sample set: {:.2f}'.format(logit.score(X_validate, y_validate)))"
   ]
  },
  {
   "cell_type": "markdown",
   "metadata": {},
   "source": [
    "## Decision tree"
   ]
  },
  {
   "cell_type": "code",
   "execution_count": 162,
   "metadata": {},
   "outputs": [],
   "source": [
    "X_train = train.drop(columns=['churn'])\n",
    "y_train = train.churn\n",
    "\n",
    "X_validate = validate.drop(columns=['churn'])\n",
    "y_validate = validate.churn\n",
    "\n",
    "X_test = test.drop(columns=['churn'])\n",
    "y_test = test.churn"
   ]
  },
  {
   "cell_type": "code",
   "execution_count": 164,
   "metadata": {},
   "outputs": [],
   "source": [
    "clf = DecisionTreeClassifier(max_depth=5, random_state=42)"
   ]
  },
  {
   "cell_type": "code",
   "execution_count": 165,
   "metadata": {},
   "outputs": [
    {
     "data": {
      "text/plain": [
       "DecisionTreeClassifier(max_depth=5, random_state=42)"
      ]
     },
     "execution_count": 165,
     "metadata": {},
     "output_type": "execute_result"
    }
   ],
   "source": [
    "clf = clf.fit(X_train, y_train)\n",
    "clf"
   ]
  },
  {
   "cell_type": "code",
   "execution_count": 166,
   "metadata": {},
   "outputs": [],
   "source": [
    "y_pred = clf.predict(X_train)\n",
    "y_pred_proba = clf.predict_proba(X_train)"
   ]
  },
  {
   "cell_type": "code",
   "execution_count": 167,
   "metadata": {},
   "outputs": [],
   "source": [
    "[tn,fp],[fn, tp] = confusion_matrix(y_train, y_pred)\n",
    "tpr = (tp / (tp+fn))\n",
    "fnr = (fn / (fn+tp))\n",
    "tnr = (tn / (tn+fp))\n",
    "fpr = (fp / (tn+fp))"
   ]
  },
  {
   "cell_type": "code",
   "execution_count": 201,
   "metadata": {},
   "outputs": [
    {
     "name": "stdout",
     "output_type": "stream",
     "text": [
      "Accuracy of Decision Tree classifier on training set: 0.73\n",
      "\n",
      "The confusion matrix:\n",
      " [[1825  297]\n",
      " [ 542  441]]\n",
      "\n",
      "Classificaiton Report:\n",
      "               precision    recall  f1-score   support\n",
      "\n",
      "           0       0.77      0.86      0.81      2122\n",
      "           1       0.60      0.45      0.51       983\n",
      "\n",
      "    accuracy                           0.73      3105\n",
      "   macro avg       0.68      0.65      0.66      3105\n",
      "weighted avg       0.72      0.73      0.72      3105\n",
      "\n",
      "The True Positive Rate is: 44.86%\n",
      "The False Positive Rate is: 14.00%\n",
      "The True Negative Rate is: 86.00%\n",
      "The False Negative Rate is: 55.14%\n",
      "\n",
      "Accuracy of Decision Tree classifier on validate set: 0.72\n"
     ]
    }
   ],
   "source": [
    "print('Accuracy of Decision Tree classifier on training set: {:.2f}\\n'\n",
    "      .format(clf.score(X_train, y_train)))\n",
    "print(f'The confusion matrix:\\n {confusion_matrix(y_train, y_pred)}\\n')\n",
    "print(f'Classificaiton Report:\\n {classification_report(y_train, y_pred)}')\n",
    "print(f'The True Positive Rate is: {tpr:.2%}')\n",
    "print(f'The False Positive Rate is: {fpr:.2%}')\n",
    "print(f'The True Negative Rate is: {tnr:.2%}')\n",
    "print(f'The False Negative Rate is: {fnr:.2%}\\n')\n",
    "print('Accuracy of Decision Tree classifier on validate set: {:.2f}'\n",
    "     .format(clf.score(X_validate, y_validate)))"
   ]
  },
  {
   "cell_type": "markdown",
   "metadata": {},
   "source": [
    "## Random Forest"
   ]
  },
  {
   "cell_type": "code",
   "execution_count": 169,
   "metadata": {},
   "outputs": [],
   "source": [
    "X_train = train.drop(columns=['churn'])\n",
    "y_train = train.churn\n",
    "\n",
    "X_validate = validate.drop(columns=['churn'])\n",
    "y_validate = validate.churn\n",
    "\n",
    "X_test = test.drop(columns=['churn'])\n",
    "y_test = test.churn"
   ]
  },
  {
   "cell_type": "code",
   "execution_count": 193,
   "metadata": {},
   "outputs": [],
   "source": [
    "rf = RandomForestClassifier(bootstrap=True, \n",
    "                            class_weight=None, \n",
    "                            criterion='gini',\n",
    "                            min_samples_leaf=5,\n",
    "                            max_depth=50, \n",
    "                            random_state=42)"
   ]
  },
  {
   "cell_type": "code",
   "execution_count": 194,
   "metadata": {},
   "outputs": [
    {
     "data": {
      "text/plain": [
       "RandomForestClassifier(max_depth=50, min_samples_leaf=5, random_state=42)"
      ]
     },
     "execution_count": 194,
     "metadata": {},
     "output_type": "execute_result"
    }
   ],
   "source": [
    "rf.fit(X_train, y_train)"
   ]
  },
  {
   "cell_type": "code",
   "execution_count": 195,
   "metadata": {},
   "outputs": [
    {
     "name": "stdout",
     "output_type": "stream",
     "text": [
      "[0.21904131 0.059878   0.06519419 0.18529435 0.04525536 0.03463429\n",
      " 0.1249111  0.08747859 0.1783128  0.        ]\n"
     ]
    }
   ],
   "source": [
    "print(rf.feature_importances_)"
   ]
  },
  {
   "cell_type": "code",
   "execution_count": 196,
   "metadata": {},
   "outputs": [],
   "source": [
    "y_pred = rf.predict(X_train)"
   ]
  },
  {
   "cell_type": "code",
   "execution_count": 197,
   "metadata": {},
   "outputs": [],
   "source": [
    "y_pred_proba = rf.predict_proba(X_train)"
   ]
  },
  {
   "cell_type": "code",
   "execution_count": 198,
   "metadata": {},
   "outputs": [],
   "source": [
    "[tn,fp],[fn, tp] = confusion_matrix(y_train, y_pred)\n",
    "tpr = (tp / (tp+fn))\n",
    "fnr = (fn / (fn+tp))\n",
    "tnr = (tn / (tn+fp))\n",
    "fpr = (fp / (tn+fp))"
   ]
  },
  {
   "cell_type": "code",
   "execution_count": 199,
   "metadata": {},
   "outputs": [
    {
     "name": "stdout",
     "output_type": "stream",
     "text": [
      "Accuracy of random forest classifier on training set: 0.73\n",
      "\n",
      "The confusion matrix:\n",
      " [[1825  297]\n",
      " [ 542  441]]\n",
      "\n",
      "Classificaiton Report:\n",
      "              precision    recall  f1-score   support\n",
      "\n",
      "           0       0.77      0.86      0.81      2122\n",
      "           1       0.60      0.45      0.51       983\n",
      "\n",
      "    accuracy                           0.73      3105\n",
      "   macro avg       0.68      0.65      0.66      3105\n",
      "weighted avg       0.72      0.73      0.72      3105\n",
      "\n",
      "\n",
      "The True Positive Rate is: 44.86%\n",
      "The False Positive Rate is: 14.00%\n",
      "The True Negative Rate is: 86.00%\n",
      "The False Negative Rate is: 55.14%\n",
      "Accuracy of random forest classifier on the validate set: 0.72\n"
     ]
    }
   ],
   "source": [
    "print('Accuracy of random forest classifier on training set: {:.2f}'\n",
    "     .format(rf.score(X_train, y_train)))\n",
    "print(f'\\nThe confusion matrix:\\n {confusion_matrix(y_train, y_pred)}\\n')\n",
    "print(f'Classificaiton Report:\\n{classification_report(y_train, y_pred)}\\n')\n",
    "print(f'The True Positive Rate is: {tpr:.2%}')\n",
    "print(f'The False Positive Rate is: {fpr:.2%}')\n",
    "print(f'The True Negative Rate is: {tnr:.2%}')\n",
    "print(f'The False Negative Rate is: {fnr:.2%}')\n",
    "print('Accuracy of random forest classifier on the validate set: {:.2f}'\n",
    "     .format(rf.score(X_validate, y_validate)))"
   ]
  },
  {
   "cell_type": "markdown",
   "metadata": {},
   "source": [
    "## kNN"
   ]
  },
  {
   "cell_type": "code",
   "execution_count": 178,
   "metadata": {},
   "outputs": [],
   "source": [
    "X_train = train.drop(columns=['churn'])\n",
    "y_train = train.churn\n",
    "\n",
    "X_validate = validate.drop(columns=['churn'])\n",
    "y_validate = validate.churn\n",
    "\n",
    "X_test = test.drop(columns=['churn'])\n",
    "y_test = test.churn"
   ]
  },
  {
   "cell_type": "code",
   "execution_count": 179,
   "metadata": {},
   "outputs": [],
   "source": [
    "knn = KNeighborsClassifier(n_neighbors=5, weights='uniform')"
   ]
  },
  {
   "cell_type": "code",
   "execution_count": 180,
   "metadata": {},
   "outputs": [
    {
     "data": {
      "text/plain": [
       "KNeighborsClassifier()"
      ]
     },
     "execution_count": 180,
     "metadata": {},
     "output_type": "execute_result"
    }
   ],
   "source": [
    "knn.fit(X_train, y_train)"
   ]
  },
  {
   "cell_type": "code",
   "execution_count": 181,
   "metadata": {},
   "outputs": [],
   "source": [
    "y_pred = knn.predict(X_train)"
   ]
  },
  {
   "cell_type": "code",
   "execution_count": 182,
   "metadata": {},
   "outputs": [],
   "source": [
    "y_pred_proba = knn.predict_proba(X_train)"
   ]
  },
  {
   "cell_type": "code",
   "execution_count": 183,
   "metadata": {},
   "outputs": [],
   "source": [
    "[tn,fp],[fn, tp] = confusion_matrix(y_train, y_pred)"
   ]
  },
  {
   "cell_type": "code",
   "execution_count": 184,
   "metadata": {},
   "outputs": [],
   "source": [
    "tpr = (tp / (tp+fn))\n",
    "fnr = (fn / (fn+tp))\n",
    "tnr = (tn / (tn+fp))\n",
    "fpr = (fp / (tn+fp))"
   ]
  },
  {
   "cell_type": "code",
   "execution_count": 185,
   "metadata": {},
   "outputs": [
    {
     "name": "stdout",
     "output_type": "stream",
     "text": [
      "Accuracy of KNN classifier on training set n_neighbors set to 5: 0.71\n",
      "The confusion matrix:\n",
      " [[1828  294]\n",
      " [ 606  377]]\n",
      "\n",
      "Classificaiton Report:\n",
      "              precision    recall  f1-score   support\n",
      "\n",
      "           0       0.75      0.86      0.80      2122\n",
      "           1       0.56      0.38      0.46       983\n",
      "\n",
      "    accuracy                           0.71      3105\n",
      "   macro avg       0.66      0.62      0.63      3105\n",
      "weighted avg       0.69      0.71      0.69      3105\n",
      "\n",
      "\n",
      "The True Positive Rate is: 38.35%\n",
      "The False Positive Rate is: 13.85%\n",
      "The True Negative Rate is: 86.15%\n",
      "The False Negative Rate is: 61.65%\n",
      "Accuracy of KNN classifier on validate set with n_neighbors set to 5: 0.70\n",
      "\n"
     ]
    }
   ],
   "source": [
    "\n",
    "print('Accuracy of KNN classifier on training set n_neighbors set to 5: {:.2f}'\n",
    "     .format(knn.score(X_train, y_train)))\n",
    "print(f'The confusion matrix:\\n {confusion_matrix(y_train, y_pred)}\\n')\n",
    "print(f'Classificaiton Report:\\n{classification_report(y_train, y_pred)}\\n')\n",
    "print(f'The True Positive Rate is: {tpr:.2%}')\n",
    "print(f'The False Positive Rate is: {fpr:.2%}')\n",
    "print(f'The True Negative Rate is: {tnr:.2%}')\n",
    "print(f'The False Negative Rate is: {fnr:.2%}')\n",
    "print('Accuracy of KNN classifier on validate set with n_neighbors set to 5: {:.2f}\\n'\n",
    "     .format(knn.score(X_validate, y_validate)))"
   ]
  },
  {
   "cell_type": "code",
   "execution_count": null,
   "metadata": {},
   "outputs": [],
   "source": []
  },
  {
   "cell_type": "code",
   "execution_count": null,
   "metadata": {},
   "outputs": [],
   "source": []
  },
  {
   "cell_type": "code",
   "execution_count": null,
   "metadata": {},
   "outputs": [],
   "source": []
  },
  {
   "cell_type": "code",
   "execution_count": null,
   "metadata": {},
   "outputs": [],
   "source": []
  }
 ],
 "metadata": {
  "kernelspec": {
   "display_name": "Python 3",
   "language": "python",
   "name": "python3"
  },
  "language_info": {
   "codemirror_mode": {
    "name": "ipython",
    "version": 3
   },
   "file_extension": ".py",
   "mimetype": "text/x-python",
   "name": "python",
   "nbconvert_exporter": "python",
   "pygments_lexer": "ipython3",
   "version": "3.8.5"
  }
 },
 "nbformat": 4,
 "nbformat_minor": 4
}
