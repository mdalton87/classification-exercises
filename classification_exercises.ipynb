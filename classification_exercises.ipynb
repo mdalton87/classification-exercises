{
 "cells": [
  {
   "cell_type": "code",
   "execution_count": 1,
   "metadata": {},
   "outputs": [],
   "source": [
    "import pandas as pd\n",
    "import numpy as np\n",
    "import os\n",
    "\n",
    "# visualize\n",
    "import seaborn as sns\n",
    "import matplotlib.pyplot as plt\n",
    "plt.rc('figure', figsize=(11, 9))\n",
    "plt.rc('font', size=13)\n",
    "\n",
    "# acquire\n",
    "from env import host, user, password\n",
    "from pydataset import data\n",
    "import acquire"
   ]
  },
  {
   "cell_type": "code",
   "execution_count": 28,
   "metadata": {},
   "outputs": [],
   "source": [
    "from sklearn.model_selection import train_test_split\n",
    "from sklearn.impute import SimpleImputer"
   ]
  },
  {
   "cell_type": "markdown",
   "metadata": {},
   "source": [
    "1. In a jupyter notebook, classification_exercises.ipynb, use a python module (pydata or seaborn datasets) containing datasets as a source from the iris data. Create a pandas dataframe, df_iris, from this data."
   ]
  },
  {
   "cell_type": "code",
   "execution_count": null,
   "metadata": {},
   "outputs": [],
   "source": [
    "data = sns.load_dataset('iris')\n",
    "df_iris = pd.DataFrame(data)"
   ]
  },
  {
   "cell_type": "markdown",
   "metadata": {},
   "source": [
    " - print the first 3 rows"
   ]
  },
  {
   "cell_type": "code",
   "execution_count": null,
   "metadata": {},
   "outputs": [],
   "source": [
    "df_iris.head(3)"
   ]
  },
  {
   "cell_type": "markdown",
   "metadata": {},
   "source": [
    "- print the number of rows and columns (shape)\n"
   ]
  },
  {
   "cell_type": "code",
   "execution_count": null,
   "metadata": {},
   "outputs": [],
   "source": [
    "df_iris.shape"
   ]
  },
  {
   "cell_type": "markdown",
   "metadata": {},
   "source": [
    "- print the column names\n"
   ]
  },
  {
   "cell_type": "code",
   "execution_count": null,
   "metadata": {},
   "outputs": [],
   "source": [
    "df_iris.columns"
   ]
  },
  {
   "cell_type": "code",
   "execution_count": null,
   "metadata": {},
   "outputs": [],
   "source": [
    "df_iris.columns.to_list()"
   ]
  },
  {
   "cell_type": "markdown",
   "metadata": {},
   "source": [
    "- print the data type of each column"
   ]
  },
  {
   "cell_type": "code",
   "execution_count": null,
   "metadata": {},
   "outputs": [],
   "source": [
    "df_iris.info()"
   ]
  },
  {
   "cell_type": "code",
   "execution_count": null,
   "metadata": {},
   "outputs": [],
   "source": [
    "df_iris.dtypes"
   ]
  },
  {
   "cell_type": "markdown",
   "metadata": {},
   "source": [
    "- print the summary statistics for each of the numeric variables.\n"
   ]
  },
  {
   "cell_type": "code",
   "execution_count": null,
   "metadata": {},
   "outputs": [],
   "source": [
    "df_iris.describe()"
   ]
  },
  {
   "cell_type": "code",
   "execution_count": null,
   "metadata": {},
   "outputs": [],
   "source": [
    "df_iris.describe().T"
   ]
  },
  {
   "cell_type": "markdown",
   "metadata": {},
   "source": [
    "--  Would you recommend rescaling the data based on these statistics?\n",
    "no"
   ]
  },
  {
   "cell_type": "markdown",
   "metadata": {},
   "source": [
    "2. Read the Table1_CustDetails table from the Excel_Exercises.xlsx file into a dataframe named df_excel."
   ]
  },
  {
   "cell_type": "code",
   "execution_count": null,
   "metadata": {},
   "outputs": [],
   "source": [
    "sheet_url = 'https://docs.google.com/spreadsheets/d/1LGlCFS71lxWgbLZKOGx232I7NDsveFFrHLGEDwinHQA/edit#gid=1922811804'\n",
    "csv_export_url = sheet_url.replace('/edit#gid=', '/export?format=csv&gid=')"
   ]
  },
  {
   "cell_type": "code",
   "execution_count": null,
   "metadata": {},
   "outputs": [],
   "source": [
    "df_excel = pd.read_excel('Spreadsheets_Exercises.xlsx', sheet_name='Table1_CustDetails')"
   ]
  },
  {
   "cell_type": "markdown",
   "metadata": {},
   "source": [
    "- assign the first 100 rows to a new dataframe, df_excel_sample\n"
   ]
  },
  {
   "cell_type": "code",
   "execution_count": null,
   "metadata": {},
   "outputs": [],
   "source": [
    "df_excel_sample = df_excel.head(100)"
   ]
  },
  {
   "cell_type": "markdown",
   "metadata": {},
   "source": [
    "- print the number of rows of your original dataframe"
   ]
  },
  {
   "cell_type": "code",
   "execution_count": null,
   "metadata": {},
   "outputs": [],
   "source": [
    "df_excel.shape[0]"
   ]
  },
  {
   "cell_type": "markdown",
   "metadata": {},
   "source": [
    "- print the first 5 column names\n"
   ]
  },
  {
   "cell_type": "code",
   "execution_count": null,
   "metadata": {},
   "outputs": [],
   "source": [
    "df_excel.columns[:5]"
   ]
  },
  {
   "cell_type": "markdown",
   "metadata": {},
   "source": [
    "- print the column names that have a data type of object"
   ]
  },
  {
   "cell_type": "code",
   "execution_count": null,
   "metadata": {},
   "outputs": [],
   "source": [
    "df_excel.info()"
   ]
  },
  {
   "cell_type": "code",
   "execution_count": null,
   "metadata": {},
   "outputs": [],
   "source": [
    "df_excel.select_dtypes(include='object').columns # justin's"
   ]
  },
  {
   "cell_type": "code",
   "execution_count": null,
   "metadata": {},
   "outputs": [],
   "source": [
    "df_excel.select_dtypes(include='object').columns.to_list()"
   ]
  },
  {
   "cell_type": "code",
   "execution_count": null,
   "metadata": {},
   "outputs": [],
   "source": [
    "obj_lst = list(df_excel.columns) # alicia's\n",
    "\n",
    "for obj in obj_lst:\n",
    "    if df_excel[obj].dtype == 'object':\n",
    "        print(obj)"
   ]
  },
  {
   "cell_type": "code",
   "execution_count": null,
   "metadata": {},
   "outputs": [],
   "source": [
    "for obj in obj_lst:\n",
    "    if df_excel[obj].dtype == 'float64':\n",
    "        print(obj,\"range:\", df_excel[obj].max() - df_excel[obj].min())"
   ]
  },
  {
   "cell_type": "markdown",
   "metadata": {},
   "source": [
    "3. Read the data from this google sheet into a dataframe, df_google\n",
    "\n"
   ]
  },
  {
   "cell_type": "code",
   "execution_count": null,
   "metadata": {},
   "outputs": [],
   "source": [
    "sheet_url = 'https://docs.google.com/spreadsheets/d/1Uhtml8KY19LILuZsrDtlsHHDC9wuDGUSe8LTEwvdI5g/edit#gid=341089357'\n",
    "csv_export_url = sheet_url.replace('/edit#gid=', '/export?format=csv&gid=')"
   ]
  },
  {
   "cell_type": "code",
   "execution_count": null,
   "metadata": {},
   "outputs": [],
   "source": [
    "df_google = pd.read_csv(csv_export_url)"
   ]
  },
  {
   "cell_type": "markdown",
   "metadata": {},
   "source": [
    "- print the first 3 rows\n"
   ]
  },
  {
   "cell_type": "code",
   "execution_count": null,
   "metadata": {},
   "outputs": [],
   "source": [
    "df_google.head(3)"
   ]
  },
  {
   "cell_type": "markdown",
   "metadata": {},
   "source": [
    "- print the number of rows and columns\n"
   ]
  },
  {
   "cell_type": "code",
   "execution_count": null,
   "metadata": {},
   "outputs": [],
   "source": [
    "df_google.shape"
   ]
  },
  {
   "cell_type": "markdown",
   "metadata": {},
   "source": [
    "- print the column names\n"
   ]
  },
  {
   "cell_type": "code",
   "execution_count": null,
   "metadata": {},
   "outputs": [],
   "source": [
    "df_google.columns"
   ]
  },
  {
   "cell_type": "code",
   "execution_count": null,
   "metadata": {},
   "outputs": [],
   "source": [
    "df_google.info()"
   ]
  },
  {
   "cell_type": "markdown",
   "metadata": {},
   "source": [
    "- print the summary statistics for each of the numeric variables\n"
   ]
  },
  {
   "cell_type": "code",
   "execution_count": null,
   "metadata": {},
   "outputs": [],
   "source": [
    "df_google.describe(include=[np.number])"
   ]
  },
  {
   "cell_type": "markdown",
   "metadata": {},
   "source": [
    "- print the unique values for each of your categorical variables\n"
   ]
  },
  {
   "cell_type": "code",
   "execution_count": null,
   "metadata": {},
   "outputs": [],
   "source": [
    "df_google.PassengerId.unique()\n",
    "df_google.Survived.unique()\n",
    "df_google.Pclass.unique()\n",
    "df_google.Name.unique()\n",
    "df_google.Sex.unique()\n",
    "df_google.Ticket.unique()\n",
    "df_google.Cabin.unique()\n",
    "df_google.Embarked.unique()\n"
   ]
  },
  {
   "cell_type": "code",
   "execution_count": null,
   "metadata": {},
   "outputs": [],
   "source": [
    "%run acquire"
   ]
  },
  {
   "cell_type": "code",
   "execution_count": null,
   "metadata": {},
   "outputs": [],
   "source": [
    "titanic = new_titanic_data()"
   ]
  },
  {
   "cell_type": "code",
   "execution_count": null,
   "metadata": {},
   "outputs": [],
   "source": [
    "# get_titanic_data()"
   ]
  },
  {
   "cell_type": "code",
   "execution_count": null,
   "metadata": {},
   "outputs": [],
   "source": [
    "iris = new_iris_data()"
   ]
  },
  {
   "cell_type": "code",
   "execution_count": null,
   "metadata": {},
   "outputs": [],
   "source": [
    "# get_iris_data()"
   ]
  },
  {
   "cell_type": "markdown",
   "metadata": {},
   "source": [
    "### Exercise\n",
    "\n",
    "1. Use the function defined in acquire.py to load the iris data.\n",
    "\n",
    "2. Drop the species_id and measurement_id columns.\n",
    "\n",
    "3. Rename the species_name column to just species.\n",
    "\n",
    "4. Create dummy variables of the species name.\n",
    "\n",
    "5. Create a function named prep_iris that accepts the untransformed iris data, and returns the data with the transformations above applied."
   ]
  },
  {
   "cell_type": "code",
   "execution_count": 4,
   "metadata": {},
   "outputs": [],
   "source": [
    "from acquire import get_iris_data, new_iris_data, get_connection"
   ]
  },
  {
   "cell_type": "code",
   "execution_count": 5,
   "metadata": {},
   "outputs": [],
   "source": [
    "df = get_iris_data()"
   ]
  },
  {
   "cell_type": "code",
   "execution_count": 6,
   "metadata": {},
   "outputs": [],
   "source": [
    "df['species'] = df.species_name"
   ]
  },
  {
   "cell_type": "code",
   "execution_count": 7,
   "metadata": {},
   "outputs": [],
   "source": [
    "dropcols = ['species_id', 'measurement_id', 'species_name']"
   ]
  },
  {
   "cell_type": "code",
   "execution_count": 8,
   "metadata": {},
   "outputs": [],
   "source": [
    "df.drop(columns=dropcols, inplace=True)"
   ]
  },
  {
   "cell_type": "code",
   "execution_count": 9,
   "metadata": {},
   "outputs": [],
   "source": [
    "dummies = pd.get_dummies(df[['species']], drop_first=True) # df[['species']] -> dual brackets renames dummies species_{species}"
   ]
  },
  {
   "cell_type": "code",
   "execution_count": 10,
   "metadata": {},
   "outputs": [],
   "source": [
    "df = pd.concat([df, dummies], axis=1)"
   ]
  },
  {
   "cell_type": "code",
   "execution_count": 11,
   "metadata": {},
   "outputs": [],
   "source": [
    "# def clean_iris():\n",
    "#     '''\n",
    "#     prep_iris will take a dataframe acquired as df and remove columns:\n",
    "#         species_id: species_name has same info but more descriptive\n",
    "#         measurement_id: contains no statistical value\n",
    "#     rename species_name to species,\n",
    "#     and add dummy values for the species\n",
    "#     return: single cleaned dataframe\n",
    "#     '''\n",
    "#     df = get_iris_data()\n",
    "#     df['species'] = df.species_name\n",
    "#     dropcols = ['species_id', 'measurement_id', 'species_name']\n",
    "#     df.drop(columns=dropcols, inplace=True)\n",
    "#     dummies = pd.get_dummies(df[['species']], drop_first=True)\n",
    "#     return pd.concat([df, dummies], axis=1)"
   ]
  },
  {
   "cell_type": "code",
   "execution_count": 17,
   "metadata": {},
   "outputs": [],
   "source": [
    "import prepare as prep"
   ]
  },
  {
   "cell_type": "code",
   "execution_count": 18,
   "metadata": {},
   "outputs": [
    {
     "data": {
      "text/html": [
       "<div>\n",
       "<style scoped>\n",
       "    .dataframe tbody tr th:only-of-type {\n",
       "        vertical-align: middle;\n",
       "    }\n",
       "\n",
       "    .dataframe tbody tr th {\n",
       "        vertical-align: top;\n",
       "    }\n",
       "\n",
       "    .dataframe thead th {\n",
       "        text-align: right;\n",
       "    }\n",
       "</style>\n",
       "<table border=\"1\" class=\"dataframe\">\n",
       "  <thead>\n",
       "    <tr style=\"text-align: right;\">\n",
       "      <th></th>\n",
       "      <th>sepal_length</th>\n",
       "      <th>sepal_width</th>\n",
       "      <th>petal_length</th>\n",
       "      <th>petal_width</th>\n",
       "      <th>species</th>\n",
       "      <th>species_versicolor</th>\n",
       "      <th>species_virginica</th>\n",
       "    </tr>\n",
       "  </thead>\n",
       "  <tbody>\n",
       "    <tr>\n",
       "      <th>81</th>\n",
       "      <td>5.5</td>\n",
       "      <td>2.4</td>\n",
       "      <td>3.7</td>\n",
       "      <td>1.0</td>\n",
       "      <td>versicolor</td>\n",
       "      <td>1</td>\n",
       "      <td>0</td>\n",
       "    </tr>\n",
       "    <tr>\n",
       "      <th>100</th>\n",
       "      <td>6.3</td>\n",
       "      <td>3.3</td>\n",
       "      <td>6.0</td>\n",
       "      <td>2.5</td>\n",
       "      <td>virginica</td>\n",
       "      <td>0</td>\n",
       "      <td>1</td>\n",
       "    </tr>\n",
       "    <tr>\n",
       "      <th>48</th>\n",
       "      <td>5.3</td>\n",
       "      <td>3.7</td>\n",
       "      <td>1.5</td>\n",
       "      <td>0.2</td>\n",
       "      <td>setosa</td>\n",
       "      <td>0</td>\n",
       "      <td>0</td>\n",
       "    </tr>\n",
       "    <tr>\n",
       "      <th>1</th>\n",
       "      <td>4.9</td>\n",
       "      <td>3.0</td>\n",
       "      <td>1.4</td>\n",
       "      <td>0.2</td>\n",
       "      <td>setosa</td>\n",
       "      <td>0</td>\n",
       "      <td>0</td>\n",
       "    </tr>\n",
       "    <tr>\n",
       "      <th>119</th>\n",
       "      <td>6.0</td>\n",
       "      <td>2.2</td>\n",
       "      <td>5.0</td>\n",
       "      <td>1.5</td>\n",
       "      <td>virginica</td>\n",
       "      <td>0</td>\n",
       "      <td>1</td>\n",
       "    </tr>\n",
       "    <tr>\n",
       "      <th>13</th>\n",
       "      <td>4.3</td>\n",
       "      <td>3.0</td>\n",
       "      <td>1.1</td>\n",
       "      <td>0.1</td>\n",
       "      <td>setosa</td>\n",
       "      <td>0</td>\n",
       "      <td>0</td>\n",
       "    </tr>\n",
       "    <tr>\n",
       "      <th>126</th>\n",
       "      <td>6.2</td>\n",
       "      <td>2.8</td>\n",
       "      <td>4.8</td>\n",
       "      <td>1.8</td>\n",
       "      <td>virginica</td>\n",
       "      <td>0</td>\n",
       "      <td>1</td>\n",
       "    </tr>\n",
       "    <tr>\n",
       "      <th>92</th>\n",
       "      <td>5.8</td>\n",
       "      <td>2.6</td>\n",
       "      <td>4.0</td>\n",
       "      <td>1.2</td>\n",
       "      <td>versicolor</td>\n",
       "      <td>1</td>\n",
       "      <td>0</td>\n",
       "    </tr>\n",
       "    <tr>\n",
       "      <th>117</th>\n",
       "      <td>7.7</td>\n",
       "      <td>3.8</td>\n",
       "      <td>6.7</td>\n",
       "      <td>2.2</td>\n",
       "      <td>virginica</td>\n",
       "      <td>0</td>\n",
       "      <td>1</td>\n",
       "    </tr>\n",
       "    <tr>\n",
       "      <th>38</th>\n",
       "      <td>4.4</td>\n",
       "      <td>3.0</td>\n",
       "      <td>1.3</td>\n",
       "      <td>0.2</td>\n",
       "      <td>setosa</td>\n",
       "      <td>0</td>\n",
       "      <td>0</td>\n",
       "    </tr>\n",
       "    <tr>\n",
       "      <th>22</th>\n",
       "      <td>4.6</td>\n",
       "      <td>3.6</td>\n",
       "      <td>1.0</td>\n",
       "      <td>0.2</td>\n",
       "      <td>setosa</td>\n",
       "      <td>0</td>\n",
       "      <td>0</td>\n",
       "    </tr>\n",
       "    <tr>\n",
       "      <th>148</th>\n",
       "      <td>6.2</td>\n",
       "      <td>3.4</td>\n",
       "      <td>5.4</td>\n",
       "      <td>2.3</td>\n",
       "      <td>virginica</td>\n",
       "      <td>0</td>\n",
       "      <td>1</td>\n",
       "    </tr>\n",
       "    <tr>\n",
       "      <th>141</th>\n",
       "      <td>6.9</td>\n",
       "      <td>3.1</td>\n",
       "      <td>5.1</td>\n",
       "      <td>2.3</td>\n",
       "      <td>virginica</td>\n",
       "      <td>0</td>\n",
       "      <td>1</td>\n",
       "    </tr>\n",
       "    <tr>\n",
       "      <th>121</th>\n",
       "      <td>5.6</td>\n",
       "      <td>2.8</td>\n",
       "      <td>4.9</td>\n",
       "      <td>2.0</td>\n",
       "      <td>virginica</td>\n",
       "      <td>0</td>\n",
       "      <td>1</td>\n",
       "    </tr>\n",
       "    <tr>\n",
       "      <th>128</th>\n",
       "      <td>6.4</td>\n",
       "      <td>2.8</td>\n",
       "      <td>5.6</td>\n",
       "      <td>2.1</td>\n",
       "      <td>virginica</td>\n",
       "      <td>0</td>\n",
       "      <td>1</td>\n",
       "    </tr>\n",
       "    <tr>\n",
       "      <th>132</th>\n",
       "      <td>6.4</td>\n",
       "      <td>2.8</td>\n",
       "      <td>5.6</td>\n",
       "      <td>2.2</td>\n",
       "      <td>virginica</td>\n",
       "      <td>0</td>\n",
       "      <td>1</td>\n",
       "    </tr>\n",
       "    <tr>\n",
       "      <th>66</th>\n",
       "      <td>5.6</td>\n",
       "      <td>3.0</td>\n",
       "      <td>4.5</td>\n",
       "      <td>1.5</td>\n",
       "      <td>versicolor</td>\n",
       "      <td>1</td>\n",
       "      <td>0</td>\n",
       "    </tr>\n",
       "    <tr>\n",
       "      <th>29</th>\n",
       "      <td>4.7</td>\n",
       "      <td>3.2</td>\n",
       "      <td>1.6</td>\n",
       "      <td>0.2</td>\n",
       "      <td>setosa</td>\n",
       "      <td>0</td>\n",
       "      <td>0</td>\n",
       "    </tr>\n",
       "    <tr>\n",
       "      <th>88</th>\n",
       "      <td>5.6</td>\n",
       "      <td>3.0</td>\n",
       "      <td>4.1</td>\n",
       "      <td>1.3</td>\n",
       "      <td>versicolor</td>\n",
       "      <td>1</td>\n",
       "      <td>0</td>\n",
       "    </tr>\n",
       "    <tr>\n",
       "      <th>95</th>\n",
       "      <td>5.7</td>\n",
       "      <td>3.0</td>\n",
       "      <td>4.2</td>\n",
       "      <td>1.2</td>\n",
       "      <td>versicolor</td>\n",
       "      <td>1</td>\n",
       "      <td>0</td>\n",
       "    </tr>\n",
       "  </tbody>\n",
       "</table>\n",
       "</div>"
      ],
      "text/plain": [
       "     sepal_length  sepal_width  petal_length  petal_width     species  \\\n",
       "81            5.5          2.4           3.7          1.0  versicolor   \n",
       "100           6.3          3.3           6.0          2.5   virginica   \n",
       "48            5.3          3.7           1.5          0.2      setosa   \n",
       "1             4.9          3.0           1.4          0.2      setosa   \n",
       "119           6.0          2.2           5.0          1.5   virginica   \n",
       "13            4.3          3.0           1.1          0.1      setosa   \n",
       "126           6.2          2.8           4.8          1.8   virginica   \n",
       "92            5.8          2.6           4.0          1.2  versicolor   \n",
       "117           7.7          3.8           6.7          2.2   virginica   \n",
       "38            4.4          3.0           1.3          0.2      setosa   \n",
       "22            4.6          3.6           1.0          0.2      setosa   \n",
       "148           6.2          3.4           5.4          2.3   virginica   \n",
       "141           6.9          3.1           5.1          2.3   virginica   \n",
       "121           5.6          2.8           4.9          2.0   virginica   \n",
       "128           6.4          2.8           5.6          2.1   virginica   \n",
       "132           6.4          2.8           5.6          2.2   virginica   \n",
       "66            5.6          3.0           4.5          1.5  versicolor   \n",
       "29            4.7          3.2           1.6          0.2      setosa   \n",
       "88            5.6          3.0           4.1          1.3  versicolor   \n",
       "95            5.7          3.0           4.2          1.2  versicolor   \n",
       "\n",
       "     species_versicolor  species_virginica  \n",
       "81                    1                  0  \n",
       "100                   0                  1  \n",
       "48                    0                  0  \n",
       "1                     0                  0  \n",
       "119                   0                  1  \n",
       "13                    0                  0  \n",
       "126                   0                  1  \n",
       "92                    1                  0  \n",
       "117                   0                  1  \n",
       "38                    0                  0  \n",
       "22                    0                  0  \n",
       "148                   0                  1  \n",
       "141                   0                  1  \n",
       "121                   0                  1  \n",
       "128                   0                  1  \n",
       "132                   0                  1  \n",
       "66                    1                  0  \n",
       "29                    0                  0  \n",
       "88                    1                  0  \n",
       "95                    1                  0  "
      ]
     },
     "execution_count": 18,
     "metadata": {},
     "output_type": "execute_result"
    }
   ],
   "source": [
    "cleaned_iris = prep.clean_iris()\n",
    "cleaned_iris.sample(20)"
   ]
  },
  {
   "cell_type": "code",
   "execution_count": 48,
   "metadata": {},
   "outputs": [],
   "source": [
    "%run prepare.py\n",
    "import warnings\n",
    "warnings.filterwarnings(\"ignore\")"
   ]
  },
  {
   "cell_type": "code",
   "execution_count": 49,
   "metadata": {},
   "outputs": [
    {
     "data": {
      "text/plain": [
       "(     sepal_length  sepal_width  petal_length  petal_width     species  \\\n",
       " 79            5.7          2.6           3.5          1.0  versicolor   \n",
       " 36            5.5          3.5           1.3          0.2      setosa   \n",
       " 133           6.3          2.8           5.1          1.5   virginica   \n",
       " 95            5.7          3.0           4.2          1.2  versicolor   \n",
       " 18            5.7          3.8           1.7          0.3      setosa   \n",
       " 139           6.9          3.1           5.4          2.1   virginica   \n",
       " 20            5.4          3.4           1.7          0.2      setosa   \n",
       " 31            5.4          3.4           1.5          0.4      setosa   \n",
       " 6             4.6          3.4           1.4          0.3      setosa   \n",
       " 115           6.4          3.2           5.3          2.3   virginica   \n",
       " 91            6.1          3.0           4.6          1.4  versicolor   \n",
       " 145           6.7          3.0           5.2          2.3   virginica   \n",
       " 125           7.2          3.2           6.0          1.8   virginica   \n",
       " 82            5.8          2.7           3.9          1.2  versicolor   \n",
       " 126           6.2          2.8           4.8          1.8   virginica   \n",
       " 142           5.8          2.7           5.1          1.9   virginica   \n",
       " 15            5.7          4.4           1.5          0.4      setosa   \n",
       " 52            6.9          3.1           4.9          1.5  versicolor   \n",
       " 4             5.0          3.6           1.4          0.2      setosa   \n",
       " 131           7.9          3.8           6.4          2.0   virginica   \n",
       " 97            6.2          2.9           4.3          1.3  versicolor   \n",
       " 70            5.9          3.2           4.8          1.8  versicolor   \n",
       " 51            6.4          3.2           4.5          1.5  versicolor   \n",
       " 57            4.9          2.4           3.3          1.0  versicolor   \n",
       " 41            4.5          2.3           1.3          0.3      setosa   \n",
       " 53            5.5          2.3           4.0          1.3  versicolor   \n",
       " 69            5.6          2.5           3.9          1.1  versicolor   \n",
       " 23            5.1          3.3           1.7          0.5      setosa   \n",
       " 87            6.3          2.3           4.4          1.3  versicolor   \n",
       " 3             4.6          3.1           1.5          0.2      setosa   \n",
       " 67            5.8          2.7           4.1          1.0  versicolor   \n",
       " 35            5.0          3.2           1.2          0.2      setosa   \n",
       " 128           6.4          2.8           5.6          2.1   virginica   \n",
       " 1             4.9          3.0           1.4          0.2      setosa   \n",
       " 16            5.4          3.9           1.3          0.4      setosa   \n",
       " 92            5.8          2.6           4.0          1.2  versicolor   \n",
       " 32            5.2          4.1           1.5          0.1      setosa   \n",
       " 129           7.2          3.0           5.8          1.6   virginica   \n",
       " 48            5.3          3.7           1.5          0.2      setosa   \n",
       " 25            5.0          3.0           1.6          0.2      setosa   \n",
       " 12            4.8          3.0           1.4          0.1      setosa   \n",
       " 96            5.7          2.9           4.2          1.3  versicolor   \n",
       " 46            5.1          3.8           1.6          0.2      setosa   \n",
       " 103           6.3          2.9           5.6          1.8   virginica   \n",
       " 89            5.5          2.5           4.0          1.3  versicolor   \n",
       " 123           6.3          2.7           4.9          1.8   virginica   \n",
       " 120           6.9          3.2           5.7          2.3   virginica   \n",
       " 147           6.5          3.0           5.2          2.0   virginica   \n",
       " 114           5.8          2.8           5.1          2.4   virginica   \n",
       " 83            6.0          2.7           5.1          1.6  versicolor   \n",
       " 26            5.0          3.4           1.6          0.4      setosa   \n",
       " 84            5.4          3.0           4.5          1.5  versicolor   \n",
       " 8             4.4          2.9           1.4          0.2      setosa   \n",
       " 24            4.8          3.4           1.9          0.2      setosa   \n",
       " 107           7.3          2.9           6.3          1.8   virginica   \n",
       " 118           7.7          2.6           6.9          2.3   virginica   \n",
       " 112           6.8          3.0           5.5          2.1   virginica   \n",
       " 141           6.9          3.1           5.1          2.3   virginica   \n",
       " 14            5.8          4.0           1.2          0.2      setosa   \n",
       " 43            5.0          3.5           1.6          0.6      setosa   \n",
       " 40            5.0          3.5           1.3          0.3      setosa   \n",
       " 109           7.2          3.6           6.1          2.5   virginica   \n",
       " 74            6.4          2.9           4.3          1.3  versicolor   \n",
       " 108           6.7          2.5           5.8          1.8   virginica   \n",
       " 119           6.0          2.2           5.0          1.5   virginica   \n",
       " 61            5.9          3.0           4.2          1.5  versicolor   \n",
       " 81            5.5          2.4           3.7          1.0  versicolor   \n",
       " 111           6.4          2.7           5.3          1.9   virginica   \n",
       " 58            6.6          2.9           4.6          1.3  versicolor   \n",
       " 7             5.0          3.4           1.5          0.2      setosa   \n",
       " 149           5.9          3.0           5.1          1.8   virginica   \n",
       " 54            6.5          2.8           4.6          1.5  versicolor   \n",
       " 94            5.6          2.7           4.2          1.3  versicolor   \n",
       " 100           6.3          3.3           6.0          2.5   virginica   \n",
       " 137           6.4          3.1           5.5          1.8   virginica   \n",
       " 132           6.4          2.8           5.6          2.2   virginica   \n",
       " 5             5.4          3.9           1.7          0.4      setosa   \n",
       " 88            5.6          3.0           4.1          1.3  versicolor   \n",
       " 140           6.7          3.1           5.6          2.4   virginica   \n",
       " 11            4.8          3.4           1.6          0.2      setosa   \n",
       " 85            6.0          3.4           4.5          1.6  versicolor   \n",
       " 55            5.7          2.8           4.5          1.3  versicolor   \n",
       " 44            5.1          3.8           1.9          0.4      setosa   \n",
       " 73            6.1          2.8           4.7          1.2  versicolor   \n",
       " \n",
       "      species_versicolor  species_virginica  \n",
       " 79                    1                  0  \n",
       " 36                    0                  0  \n",
       " 133                   0                  1  \n",
       " 95                    1                  0  \n",
       " 18                    0                  0  \n",
       " 139                   0                  1  \n",
       " 20                    0                  0  \n",
       " 31                    0                  0  \n",
       " 6                     0                  0  \n",
       " 115                   0                  1  \n",
       " 91                    1                  0  \n",
       " 145                   0                  1  \n",
       " 125                   0                  1  \n",
       " 82                    1                  0  \n",
       " 126                   0                  1  \n",
       " 142                   0                  1  \n",
       " 15                    0                  0  \n",
       " 52                    1                  0  \n",
       " 4                     0                  0  \n",
       " 131                   0                  1  \n",
       " 97                    1                  0  \n",
       " 70                    1                  0  \n",
       " 51                    1                  0  \n",
       " 57                    1                  0  \n",
       " 41                    0                  0  \n",
       " 53                    1                  0  \n",
       " 69                    1                  0  \n",
       " 23                    0                  0  \n",
       " 87                    1                  0  \n",
       " 3                     0                  0  \n",
       " 67                    1                  0  \n",
       " 35                    0                  0  \n",
       " 128                   0                  1  \n",
       " 1                     0                  0  \n",
       " 16                    0                  0  \n",
       " 92                    1                  0  \n",
       " 32                    0                  0  \n",
       " 129                   0                  1  \n",
       " 48                    0                  0  \n",
       " 25                    0                  0  \n",
       " 12                    0                  0  \n",
       " 96                    1                  0  \n",
       " 46                    0                  0  \n",
       " 103                   0                  1  \n",
       " 89                    1                  0  \n",
       " 123                   0                  1  \n",
       " 120                   0                  1  \n",
       " 147                   0                  1  \n",
       " 114                   0                  1  \n",
       " 83                    1                  0  \n",
       " 26                    0                  0  \n",
       " 84                    1                  0  \n",
       " 8                     0                  0  \n",
       " 24                    0                  0  \n",
       " 107                   0                  1  \n",
       " 118                   0                  1  \n",
       " 112                   0                  1  \n",
       " 141                   0                  1  \n",
       " 14                    0                  0  \n",
       " 43                    0                  0  \n",
       " 40                    0                  0  \n",
       " 109                   0                  1  \n",
       " 74                    1                  0  \n",
       " 108                   0                  1  \n",
       " 119                   0                  1  \n",
       " 61                    1                  0  \n",
       " 81                    1                  0  \n",
       " 111                   0                  1  \n",
       " 58                    1                  0  \n",
       " 7                     0                  0  \n",
       " 149                   0                  1  \n",
       " 54                    1                  0  \n",
       " 94                    1                  0  \n",
       " 100                   0                  1  \n",
       " 137                   0                  1  \n",
       " 132                   0                  1  \n",
       " 5                     0                  0  \n",
       " 88                    1                  0  \n",
       " 140                   0                  1  \n",
       " 11                    0                  0  \n",
       " 85                    1                  0  \n",
       " 55                    1                  0  \n",
       " 44                    0                  0  \n",
       " 73                    1                  0  ,\n",
       "      sepal_length  sepal_width  petal_length  petal_width     species  \\\n",
       " 134           6.1          2.6           5.6          1.4   virginica   \n",
       " 62            6.0          2.2           4.0          1.0  versicolor   \n",
       " 98            5.1          2.5           3.0          1.1  versicolor   \n",
       " 66            5.6          3.0           4.5          1.5  versicolor   \n",
       " 121           5.6          2.8           4.9          2.0   virginica   \n",
       " 59            5.2          2.7           3.9          1.4  versicolor   \n",
       " 0             5.1          3.5           1.4          0.2      setosa   \n",
       " 37            4.9          3.6           1.4          0.1      setosa   \n",
       " 29            4.7          3.2           1.6          0.2      setosa   \n",
       " 104           6.5          3.0           5.8          2.2   virginica   \n",
       " 10            5.4          3.7           1.5          0.2      setosa   \n",
       " 130           7.4          2.8           6.1          1.9   virginica   \n",
       " 122           7.7          2.8           6.7          2.0   virginica   \n",
       " 9             4.9          3.1           1.5          0.1      setosa   \n",
       " 75            6.6          3.0           4.4          1.4  versicolor   \n",
       " 39            5.1          3.4           1.5          0.2      setosa   \n",
       " 148           6.2          3.4           5.4          2.3   virginica   \n",
       " 50            7.0          3.2           4.7          1.4  versicolor   \n",
       " 60            5.0          2.0           3.5          1.0  versicolor   \n",
       " 71            6.1          2.8           4.0          1.3  versicolor   \n",
       " 78            6.0          2.9           4.5          1.5  versicolor   \n",
       " 102           7.1          3.0           5.9          2.1   virginica   \n",
       " 106           4.9          2.5           4.5          1.7   virginica   \n",
       " 64            5.6          2.9           3.6          1.3  versicolor   \n",
       " 136           6.3          3.4           5.6          2.4   virginica   \n",
       " 90            5.5          2.6           4.4          1.2  versicolor   \n",
       " 13            4.3          3.0           1.1          0.1      setosa   \n",
       " 49            5.0          3.3           1.4          0.2      setosa   \n",
       " 21            5.1          3.7           1.5          0.4      setosa   \n",
       " 47            4.6          3.2           1.4          0.2      setosa   \n",
       " 143           6.8          3.2           5.9          2.3   virginica   \n",
       " 113           5.7          2.5           5.0          2.0   virginica   \n",
       " 99            5.7          2.8           4.1          1.3  versicolor   \n",
       " 27            5.2          3.5           1.5          0.2      setosa   \n",
       " 30            4.8          3.1           1.6          0.2      setosa   \n",
       " 124           6.7          3.3           5.7          2.1   virginica   \n",
       " \n",
       "      species_versicolor  species_virginica  \n",
       " 134                   0                  1  \n",
       " 62                    1                  0  \n",
       " 98                    1                  0  \n",
       " 66                    1                  0  \n",
       " 121                   0                  1  \n",
       " 59                    1                  0  \n",
       " 0                     0                  0  \n",
       " 37                    0                  0  \n",
       " 29                    0                  0  \n",
       " 104                   0                  1  \n",
       " 10                    0                  0  \n",
       " 130                   0                  1  \n",
       " 122                   0                  1  \n",
       " 9                     0                  0  \n",
       " 75                    1                  0  \n",
       " 39                    0                  0  \n",
       " 148                   0                  1  \n",
       " 50                    1                  0  \n",
       " 60                    1                  0  \n",
       " 71                    1                  0  \n",
       " 78                    1                  0  \n",
       " 102                   0                  1  \n",
       " 106                   0                  1  \n",
       " 64                    1                  0  \n",
       " 136                   0                  1  \n",
       " 90                    1                  0  \n",
       " 13                    0                  0  \n",
       " 49                    0                  0  \n",
       " 21                    0                  0  \n",
       " 47                    0                  0  \n",
       " 143                   0                  1  \n",
       " 113                   0                  1  \n",
       " 99                    1                  0  \n",
       " 27                    0                  0  \n",
       " 30                    0                  0  \n",
       " 124                   0                  1  ,\n",
       "      sepal_length  sepal_width  petal_length  petal_width     species  \\\n",
       " 80            5.5          2.4           3.8          1.1  versicolor   \n",
       " 45            4.8          3.0           1.4          0.3      setosa   \n",
       " 144           6.7          3.3           5.7          2.5   virginica   \n",
       " 110           6.5          3.2           5.1          2.0   virginica   \n",
       " 38            4.4          3.0           1.3          0.2      setosa   \n",
       " 2             4.7          3.2           1.3          0.2      setosa   \n",
       " 135           7.7          3.0           6.1          2.3   virginica   \n",
       " 72            6.3          2.5           4.9          1.5  versicolor   \n",
       " 138           6.0          3.0           4.8          1.8   virginica   \n",
       " 34            4.9          3.1           1.5          0.2      setosa   \n",
       " 19            5.1          3.8           1.5          0.3      setosa   \n",
       " 77            6.7          3.0           5.0          1.7  versicolor   \n",
       " 101           5.8          2.7           5.1          1.9   virginica   \n",
       " 63            6.1          2.9           4.7          1.4  versicolor   \n",
       " 117           7.7          3.8           6.7          2.2   virginica   \n",
       " 76            6.8          2.8           4.8          1.4  versicolor   \n",
       " 42            4.4          3.2           1.3          0.2      setosa   \n",
       " 22            4.6          3.6           1.0          0.2      setosa   \n",
       " 28            5.2          3.4           1.4          0.2      setosa   \n",
       " 33            5.5          4.2           1.4          0.2      setosa   \n",
       " 17            5.1          3.5           1.4          0.3      setosa   \n",
       " 116           6.5          3.0           5.5          1.8   virginica   \n",
       " 127           6.1          3.0           4.9          1.8   virginica   \n",
       " 56            6.3          3.3           4.7          1.6  versicolor   \n",
       " 105           7.6          3.0           6.6          2.1   virginica   \n",
       " 146           6.3          2.5           5.0          1.9   virginica   \n",
       " 93            5.0          2.3           3.3          1.0  versicolor   \n",
       " 86            6.7          3.1           4.7          1.5  versicolor   \n",
       " 68            6.2          2.2           4.5          1.5  versicolor   \n",
       " 65            6.7          3.1           4.4          1.4  versicolor   \n",
       " \n",
       "      species_versicolor  species_virginica  \n",
       " 80                    1                  0  \n",
       " 45                    0                  0  \n",
       " 144                   0                  1  \n",
       " 110                   0                  1  \n",
       " 38                    0                  0  \n",
       " 2                     0                  0  \n",
       " 135                   0                  1  \n",
       " 72                    1                  0  \n",
       " 138                   0                  1  \n",
       " 34                    0                  0  \n",
       " 19                    0                  0  \n",
       " 77                    1                  0  \n",
       " 101                   0                  1  \n",
       " 63                    1                  0  \n",
       " 117                   0                  1  \n",
       " 76                    1                  0  \n",
       " 42                    0                  0  \n",
       " 22                    0                  0  \n",
       " 28                    0                  0  \n",
       " 33                    0                  0  \n",
       " 17                    0                  0  \n",
       " 116                   0                  1  \n",
       " 127                   0                  1  \n",
       " 56                    1                  0  \n",
       " 105                   0                  1  \n",
       " 146                   0                  1  \n",
       " 93                    1                  0  \n",
       " 86                    1                  0  \n",
       " 68                    1                  0  \n",
       " 65                    1                  0  )"
      ]
     },
     "execution_count": 49,
     "metadata": {},
     "output_type": "execute_result"
    }
   ],
   "source": [
    "prep_iris_data()"
   ]
  },
  {
   "cell_type": "code",
   "execution_count": null,
   "metadata": {},
   "outputs": [],
   "source": []
  }
 ],
 "metadata": {
  "kernelspec": {
   "display_name": "Python 3",
   "language": "python",
   "name": "python3"
  },
  "language_info": {
   "codemirror_mode": {
    "name": "ipython",
    "version": 3
   },
   "file_extension": ".py",
   "mimetype": "text/x-python",
   "name": "python",
   "nbconvert_exporter": "python",
   "pygments_lexer": "ipython3",
   "version": "3.8.5"
  }
 },
 "nbformat": 4,
 "nbformat_minor": 4
}
